{
  "nbformat": 4,
  "nbformat_minor": 0,
  "metadata": {
    "colab": {
      "name": "Testes_Unidade_3_and_4_Python.ipynb",
      "provenance": [],
      "authorship_tag": "ABX9TyPBhg/LyJSDEqjeWkpZJBb0",
      "include_colab_link": true
    },
    "kernelspec": {
      "name": "python3",
      "display_name": "Python 3"
    }
  },
  "cells": [
    {
      "cell_type": "markdown",
      "metadata": {
        "id": "view-in-github",
        "colab_type": "text"
      },
      "source": [
        "<a href=\"https://colab.research.google.com/github/josiemerson/learning_python/blob/master/Testes_Unidade_3_and_4_Python.ipynb\" target=\"_parent\"><img src=\"https://colab.research.google.com/assets/colab-badge.svg\" alt=\"Open In Colab\"/></a>"
      ]
    },
    {
      "cell_type": "markdown",
      "metadata": {
        "id": "9Pkt9KsH_VHS",
        "colab_type": "text"
      },
      "source": [
        "**Pergunta 1** Qual a saída correta para o código a seguir?\n"
      ]
    },
    {
      "cell_type": "code",
      "metadata": {
        "id": "E9AOwIUw9blG",
        "colab_type": "code",
        "colab": {
          "base_uri": "https://localhost:8080/",
          "height": 50
        },
        "outputId": "0ab167ef-507a-47b0-a9b9-ba9d7086609f"
      },
      "source": [
        "import numpy as np\n",
        "series = [[23, 45, 12, 679], [14, 48, 69, 38]]\n",
        "new_series = np.array(series)\n",
        "print(new_series.ndim)\n",
        "print(new_series.shape)"
      ],
      "execution_count": 2,
      "outputs": [
        {
          "output_type": "stream",
          "text": [
            "2\n",
            "(2, 4)\n"
          ],
          "name": "stdout"
        }
      ]
    },
    {
      "cell_type": "markdown",
      "metadata": {
        "id": "owx4kVqH90hP",
        "colab_type": "text"
      },
      "source": [
        "**Pergunta 2:** Vamos supor que eu queira criar um ndarray de uma dimensão, com 10 posições armazenando o valor 4. Quais das seguintes formas são corretas?"
      ]
    },
    {
      "cell_type": "code",
      "metadata": {
        "id": "SLiwndbt9wgK",
        "colab_type": "code",
        "colab": {
          "base_uri": "https://localhost:8080/",
          "height": 101
        },
        "outputId": "840370cb-4c48-4421-90fb-d4c105503bd3"
      },
      "source": [
        "import numpy as np\n",
        "a = np.zeros(10) + 4\n",
        "print(a)\n",
        "\n",
        "a = np.zeros(10) * 4\n",
        "print(a)\n",
        "\n",
        "a = np.ones(10) * 4\n",
        "print(a)\n",
        "\n",
        "a = np.ones(10) + 4\n",
        "print(a)\n",
        "\n",
        "a = np.full(10, 4)\n",
        "print(a)"
      ],
      "execution_count": 3,
      "outputs": [
        {
          "output_type": "stream",
          "text": [
            "[4. 4. 4. 4. 4. 4. 4. 4. 4. 4.]\n",
            "[0. 0. 0. 0. 0. 0. 0. 0. 0. 0.]\n",
            "[4. 4. 4. 4. 4. 4. 4. 4. 4. 4.]\n",
            "[5. 5. 5. 5. 5. 5. 5. 5. 5. 5.]\n",
            "[4 4 4 4 4 4 4 4 4 4]\n"
          ],
          "name": "stdout"
        }
      ]
    },
    {
      "cell_type": "markdown",
      "metadata": {
        "id": "SNZD4o1g-lB6",
        "colab_type": "text"
      },
      "source": [
        "**Pergunta 3** Qual é a saída correta para o código Python a seguir?"
      ]
    },
    {
      "cell_type": "code",
      "metadata": {
        "id": "_tMFDIhc-vIp",
        "colab_type": "code",
        "colab": {
          "base_uri": "https://localhost:8080/",
          "height": 34
        },
        "outputId": "8035a664-c8e7-4ca4-be3a-06cd6ba4e854"
      },
      "source": [
        "import numpy as np\n",
        "dataset = np.array(['paul', 'jacob', 'vince', 'paul', 'miky',  'larence', 'warren'])\n",
        "print(dataset == 'paul')"
      ],
      "execution_count": 4,
      "outputs": [
        {
          "output_type": "stream",
          "text": [
            "[ True False False  True False False False]\n"
          ],
          "name": "stdout"
        }
      ]
    },
    {
      "cell_type": "markdown",
      "metadata": {
        "id": "ter-yivE_EET",
        "colab_type": "text"
      },
      "source": [
        "**Pergunta 4** Qual é a saída para o código a seguir?"
      ]
    },
    {
      "cell_type": "code",
      "metadata": {
        "id": "5heQKlFH_Ilg",
        "colab_type": "code",
        "colab": {
          "base_uri": "https://localhost:8080/",
          "height": 34
        },
        "outputId": "56636202-e8ee-4f26-b93a-446f885c1ea0"
      },
      "source": [
        "import numpy as np\n",
        "percentiles = [98, 76.37, 55.55, 69, 88]\n",
        "first_subject = np.array(percentiles)\n",
        "print(first_subject.dtype.name)\n",
        "#print(first_subject.dtype)"
      ],
      "execution_count": 31,
      "outputs": [
        {
          "output_type": "stream",
          "text": [
            "float64\n"
          ],
          "name": "stdout"
        }
      ]
    },
    {
      "cell_type": "markdown",
      "metadata": {
        "id": "0XS0qIPCACoe",
        "colab_type": "text"
      },
      "source": [
        "**Pergunta 5** Quais das opções substituem todos os números pares do array abaixo por -1?"
      ]
    },
    {
      "cell_type": "code",
      "metadata": {
        "id": "ZPEtQ-xTAN3g",
        "colab_type": "code",
        "colab": {
          "base_uri": "https://localhost:8080/",
          "height": 34
        },
        "outputId": "c309380c-e28d-4ccf-f812-9bb594482ab3"
      },
      "source": [
        "import numpy as np\n",
        "arr = np.array([0, 1, 2, 3, 4, 5, 6, 7, 8, 9])\n",
        "arr[::2] = -1\n",
        "#arr[1::2] = -1\n",
        "#arr[arr % 2 == 0] = -1\n",
        "#d = arr[-2::-2] = -1\n",
        "arr"
      ],
      "execution_count": 28,
      "outputs": [
        {
          "output_type": "execute_result",
          "data": {
            "text/plain": [
              "array([-1,  1, -1,  3, -1,  5, -1,  7, -1,  9])"
            ]
          },
          "metadata": {
            "tags": []
          },
          "execution_count": 28
        }
      ]
    },
    {
      "cell_type": "markdown",
      "metadata": {
        "id": "jL5-co77C6ha",
        "colab_type": "text"
      },
      "source": [
        "**Pergunta 6** Após criar uma matriz identidade de 5 x 5, um programador deseja preencher os elementos acima e abaixo da diagonal principal como o número -1. Como ele pode fazer isso?"
      ]
    },
    {
      "cell_type": "code",
      "metadata": {
        "id": "fAILtN4vDKe-",
        "colab_type": "code",
        "colab": {
          "base_uri": "https://localhost:8080/",
          "height": 101
        },
        "outputId": "ca4dbcdc-a080-47ed-935b-849b7dda43d8"
      },
      "source": [
        "arr = np.eye(5)\n",
        "#arr[arr == 0] = -1\n",
        "#arr[arr != 1] = -1\n",
        "#arr = np.full((5x5),-1)\n",
        "#arr = arr - (np.eye(5) + 1)\n",
        "arr"
      ],
      "execution_count": 38,
      "outputs": [
        {
          "output_type": "execute_result",
          "data": {
            "text/plain": [
              "array([[-1., -1., -1., -1., -1.],\n",
              "       [-1., -1., -1., -1., -1.],\n",
              "       [-1., -1., -1., -1., -1.],\n",
              "       [-1., -1., -1., -1., -1.],\n",
              "       [-1., -1., -1., -1., -1.]])"
            ]
          },
          "metadata": {
            "tags": []
          },
          "execution_count": 38
        }
      ]
    },
    {
      "cell_type": "markdown",
      "metadata": {
        "id": "IseqNBi6GuGl",
        "colab_type": "text"
      },
      "source": [
        "**Atividades Objetiva 04**\n",
        "\n",
        "**Pergunta 1** Assim como o ndarray do NumPy, os objetos DataFrame e Series do Pandas possuem o atributo shape que é utilizado para verificar e manipular as dimensões dessas estruturas de dados."
      ]
    },
    {
      "cell_type": "code",
      "metadata": {
        "id": "SsELhUSGG49g",
        "colab_type": "code",
        "colab": {}
      },
      "source": [
        "##true (Coloquei errado o correto é false (Não é possível manipular as dimensões do DataFrame e Series atribuindo valores ao shape, como ocorre com o array do NumPy. Portanto a afirmação é falsa.))\n",
        "## Resposta correta : False"
      ],
      "execution_count": null,
      "outputs": []
    },
    {
      "cell_type": "markdown",
      "metadata": {
        "id": "w3kJ4RKBHwwX",
        "colab_type": "text"
      },
      "source": [
        "**Pergunta 2** Podemos afirmar que o DataFrame é um grupo de Series que compartilham um mesmo índice, ou seja, cada coluna de um DataFrame nada mais é do que uma Series."
      ]
    },
    {
      "cell_type": "code",
      "metadata": {
        "id": "MEv0dY65H1S-",
        "colab_type": "code",
        "colab": {}
      },
      "source": [
        "##false (Um objeto DataFrame é um conjunto de Series.)\n",
        "##Resposta correta: true"
      ],
      "execution_count": null,
      "outputs": []
    },
    {
      "cell_type": "markdown",
      "metadata": {
        "id": "0SJs__eFH2o3",
        "colab_type": "text"
      },
      "source": [
        "**Pergunta 3** Considere o trecho a seguir:"
      ]
    },
    {
      "cell_type": "code",
      "metadata": {
        "id": "p53WqKLBH6Ma",
        "colab_type": "code",
        "colab": {
          "base_uri": "https://localhost:8080/",
          "height": 50
        },
        "outputId": "c1f603a2-bfad-475d-a5f2-f4bc36b0162a"
      },
      "source": [
        "import pandas as pd\n",
        "nomes = (\"Minas Gerais\", \"Amazonas\", \"Maranhão\", \"Goiás\", \"Santa Catarina\")\n",
        "siglas = (\"MG\", \"AM\", \"MA\", \"GO\", \"SC\")\n",
        "estados = pd.Series(siglas, nomes)\n",
        "print(estados.get('Minas Gerais'))\n",
        "print(estados['Minas Gerais'])"
      ],
      "execution_count": 51,
      "outputs": [
        {
          "output_type": "stream",
          "text": [
            "MG\n",
            "MG\n"
          ],
          "name": "stdout"
        }
      ]
    },
    {
      "cell_type": "markdown",
      "metadata": {
        "id": "tosN_YqwJIEA",
        "colab_type": "text"
      },
      "source": [
        "**Pergunta 4** Por Padrão, os métodos do Pandas pr.read_csv e pd.read_excel retornam um objeto DataFrame mesmo que os dados estejam em apenas 1 dimensão. Para alterar esse comportamento, deve-se passar os parâmetro squeeze = True."
      ]
    },
    {
      "cell_type": "code",
      "metadata": {
        "id": "D6m6uQXDJarW",
        "colab_type": "code",
        "colab": {}
      },
      "source": [
        "import pandas as pd"
      ],
      "execution_count": 81,
      "outputs": []
    },
    {
      "cell_type": "markdown",
      "metadata": {
        "id": "RUObdEs3OEU-",
        "colab_type": "text"
      },
      "source": [
        "**Pergunta 5** Suponha que o DataFrame df tenha sido criado conforme o código a seguir:"
      ]
    },
    {
      "cell_type": "code",
      "metadata": {
        "id": "j3o0IbRTOQcE",
        "colab_type": "code",
        "colab": {
          "base_uri": "https://localhost:8080/",
          "height": 195
        },
        "outputId": "3ed2aeab-9f62-4ac5-f64b-2e0a5faf8335"
      },
      "source": [
        "import pandas as pd\n",
        "df = pd.read_csv('https://raw.githubusercontent.com/sandeco/CanalSandeco/master/covid-19/covid_19_data.csv')\n",
        "#Quais as instruções que podemos utilizar para retornar as primeiras 5 linhas do DataFrame df.\n",
        "''' Resposta: \n",
        "    df.head() e \n",
        "    df.head(5)\n",
        "'''\n",
        "#df.head() # retorna as primeiras 5 linhas\n",
        "#df.head(5)# retorna as primeiras 5 linhas\n",
        "#df.tail() # retorna as ultimas 5 linhas\n",
        "#df.tail(5)# retorna as ultimas 5 linhas\n",
        "#df.sample(5) # retorna 5 linhas aleatórias"
      ],
      "execution_count": 65,
      "outputs": [
        {
          "output_type": "execute_result",
          "data": {
            "text/html": [
              "<div>\n",
              "<style scoped>\n",
              "    .dataframe tbody tr th:only-of-type {\n",
              "        vertical-align: middle;\n",
              "    }\n",
              "\n",
              "    .dataframe tbody tr th {\n",
              "        vertical-align: top;\n",
              "    }\n",
              "\n",
              "    .dataframe thead th {\n",
              "        text-align: right;\n",
              "    }\n",
              "</style>\n",
              "<table border=\"1\" class=\"dataframe\">\n",
              "  <thead>\n",
              "    <tr style=\"text-align: right;\">\n",
              "      <th></th>\n",
              "      <th>SNo</th>\n",
              "      <th>ObservationDate</th>\n",
              "      <th>Province/State</th>\n",
              "      <th>Country/Region</th>\n",
              "      <th>Last Update</th>\n",
              "      <th>Confirmed</th>\n",
              "      <th>Deaths</th>\n",
              "      <th>Recovered</th>\n",
              "    </tr>\n",
              "  </thead>\n",
              "  <tbody>\n",
              "    <tr>\n",
              "      <th>2229</th>\n",
              "      <td>2230</td>\n",
              "      <td>02/24/2020</td>\n",
              "      <td>Ningxia</td>\n",
              "      <td>Mainland China</td>\n",
              "      <td>2020-02-24T06:53:02</td>\n",
              "      <td>71.0</td>\n",
              "      <td>0.0</td>\n",
              "      <td>58.0</td>\n",
              "    </tr>\n",
              "    <tr>\n",
              "      <th>455</th>\n",
              "      <td>456</td>\n",
              "      <td>01/31/2020</td>\n",
              "      <td>Gansu</td>\n",
              "      <td>Mainland China</td>\n",
              "      <td>1/31/2020 23:59</td>\n",
              "      <td>29.0</td>\n",
              "      <td>0.0</td>\n",
              "      <td>0.0</td>\n",
              "    </tr>\n",
              "    <tr>\n",
              "      <th>2870</th>\n",
              "      <td>2871</td>\n",
              "      <td>03/01/2020</td>\n",
              "      <td>NaN</td>\n",
              "      <td>Austria</td>\n",
              "      <td>2020-03-01T23:33:03</td>\n",
              "      <td>14.0</td>\n",
              "      <td>0.0</td>\n",
              "      <td>0.0</td>\n",
              "    </tr>\n",
              "    <tr>\n",
              "      <th>4528</th>\n",
              "      <td>4529</td>\n",
              "      <td>03/10/2020</td>\n",
              "      <td>Jiangsu</td>\n",
              "      <td>Mainland China</td>\n",
              "      <td>2020-03-10T08:13:08</td>\n",
              "      <td>631.0</td>\n",
              "      <td>0.0</td>\n",
              "      <td>627.0</td>\n",
              "    </tr>\n",
              "    <tr>\n",
              "      <th>6439</th>\n",
              "      <td>6440</td>\n",
              "      <td>03/18/2020</td>\n",
              "      <td>NaN</td>\n",
              "      <td>Italy</td>\n",
              "      <td>2020-03-18T17:33:05</td>\n",
              "      <td>35713.0</td>\n",
              "      <td>2978.0</td>\n",
              "      <td>4025.0</td>\n",
              "    </tr>\n",
              "  </tbody>\n",
              "</table>\n",
              "</div>"
            ],
            "text/plain": [
              "       SNo ObservationDate Province/State  ... Confirmed  Deaths  Recovered\n",
              "2229  2230      02/24/2020        Ningxia  ...      71.0     0.0       58.0\n",
              "455    456      01/31/2020          Gansu  ...      29.0     0.0        0.0\n",
              "2870  2871      03/01/2020            NaN  ...      14.0     0.0        0.0\n",
              "4528  4529      03/10/2020        Jiangsu  ...     631.0     0.0      627.0\n",
              "6439  6440      03/18/2020            NaN  ...   35713.0  2978.0     4025.0\n",
              "\n",
              "[5 rows x 8 columns]"
            ]
          },
          "metadata": {
            "tags": []
          },
          "execution_count": 65
        }
      ]
    },
    {
      "cell_type": "markdown",
      "metadata": {
        "id": "BIaXeWU7PgVY",
        "colab_type": "text"
      },
      "source": [
        "**Pergunta 6** Suponha o DataFrame df possua as colunas A,B,C e D. Marque abaixo as alternativas que **removem** a coluna C (e não apenas retornem o DataFrame sem a coluna) o DataFrame df, deixando apenas as colunas A, B e D."
      ]
    },
    {
      "cell_type": "code",
      "metadata": {
        "id": "lWSAXduKQTHy",
        "colab_type": "code",
        "colab": {
          "base_uri": "https://localhost:8080/",
          "height": 402
        },
        "outputId": "b6618aad-034f-4d68-9330-1c948f720e64"
      },
      "source": [
        "import pandas as pd\n",
        "df = pd.read_csv('https://raw.githubusercontent.com/sandeco/CanalSandeco/master/covid-19/covid_19_data.csv')\n",
        "#df.drop(\"Confirmed\", axis = 1, inplace= True) #remove a coluna \"Confirmed\" do df\n",
        "#df = df.drop(\"Confirmed\", axis = 1) # remove a coluna \"Confirmed\" do df\n",
        "#df.drop(\"Confirmed\", axis = 1) #remove a coluna \"Confirmed\" apenas da visualização do df, mas não dropa do df.\n",
        "#df.drop(\"Confirmed\", axis = 0, inplace = True) # ocorre exception não encontrou axis 0\n",
        "df"
      ],
      "execution_count": 80,
      "outputs": [
        {
          "output_type": "execute_result",
          "data": {
            "text/html": [
              "<div>\n",
              "<style scoped>\n",
              "    .dataframe tbody tr th:only-of-type {\n",
              "        vertical-align: middle;\n",
              "    }\n",
              "\n",
              "    .dataframe tbody tr th {\n",
              "        vertical-align: top;\n",
              "    }\n",
              "\n",
              "    .dataframe thead th {\n",
              "        text-align: right;\n",
              "    }\n",
              "</style>\n",
              "<table border=\"1\" class=\"dataframe\">\n",
              "  <thead>\n",
              "    <tr style=\"text-align: right;\">\n",
              "      <th></th>\n",
              "      <th>SNo</th>\n",
              "      <th>ObservationDate</th>\n",
              "      <th>Province/State</th>\n",
              "      <th>Country/Region</th>\n",
              "      <th>Last Update</th>\n",
              "      <th>Confirmed</th>\n",
              "      <th>Deaths</th>\n",
              "      <th>Recovered</th>\n",
              "    </tr>\n",
              "  </thead>\n",
              "  <tbody>\n",
              "    <tr>\n",
              "      <th>0</th>\n",
              "      <td>1</td>\n",
              "      <td>01/22/2020</td>\n",
              "      <td>Anhui</td>\n",
              "      <td>Mainland China</td>\n",
              "      <td>1/22/2020 17:00</td>\n",
              "      <td>1.0</td>\n",
              "      <td>0.0</td>\n",
              "      <td>0.0</td>\n",
              "    </tr>\n",
              "    <tr>\n",
              "      <th>1</th>\n",
              "      <td>2</td>\n",
              "      <td>01/22/2020</td>\n",
              "      <td>Beijing</td>\n",
              "      <td>Mainland China</td>\n",
              "      <td>1/22/2020 17:00</td>\n",
              "      <td>14.0</td>\n",
              "      <td>0.0</td>\n",
              "      <td>0.0</td>\n",
              "    </tr>\n",
              "    <tr>\n",
              "      <th>2</th>\n",
              "      <td>3</td>\n",
              "      <td>01/22/2020</td>\n",
              "      <td>Chongqing</td>\n",
              "      <td>Mainland China</td>\n",
              "      <td>1/22/2020 17:00</td>\n",
              "      <td>6.0</td>\n",
              "      <td>0.0</td>\n",
              "      <td>0.0</td>\n",
              "    </tr>\n",
              "    <tr>\n",
              "      <th>3</th>\n",
              "      <td>4</td>\n",
              "      <td>01/22/2020</td>\n",
              "      <td>Fujian</td>\n",
              "      <td>Mainland China</td>\n",
              "      <td>1/22/2020 17:00</td>\n",
              "      <td>1.0</td>\n",
              "      <td>0.0</td>\n",
              "      <td>0.0</td>\n",
              "    </tr>\n",
              "    <tr>\n",
              "      <th>4</th>\n",
              "      <td>5</td>\n",
              "      <td>01/22/2020</td>\n",
              "      <td>Gansu</td>\n",
              "      <td>Mainland China</td>\n",
              "      <td>1/22/2020 17:00</td>\n",
              "      <td>0.0</td>\n",
              "      <td>0.0</td>\n",
              "      <td>0.0</td>\n",
              "    </tr>\n",
              "    <tr>\n",
              "      <th>...</th>\n",
              "      <td>...</td>\n",
              "      <td>...</td>\n",
              "      <td>...</td>\n",
              "      <td>...</td>\n",
              "      <td>...</td>\n",
              "      <td>...</td>\n",
              "      <td>...</td>\n",
              "      <td>...</td>\n",
              "    </tr>\n",
              "    <tr>\n",
              "      <th>10353</th>\n",
              "      <td>10354</td>\n",
              "      <td>03/30/2020</td>\n",
              "      <td>Wyoming</td>\n",
              "      <td>US</td>\n",
              "      <td>2020-03-30 22:58:55</td>\n",
              "      <td>94.0</td>\n",
              "      <td>0.0</td>\n",
              "      <td>0.0</td>\n",
              "    </tr>\n",
              "    <tr>\n",
              "      <th>10354</th>\n",
              "      <td>10355</td>\n",
              "      <td>03/30/2020</td>\n",
              "      <td>Xinjiang</td>\n",
              "      <td>Mainland China</td>\n",
              "      <td>2020-03-30 22:58:55</td>\n",
              "      <td>76.0</td>\n",
              "      <td>3.0</td>\n",
              "      <td>73.0</td>\n",
              "    </tr>\n",
              "    <tr>\n",
              "      <th>10355</th>\n",
              "      <td>10356</td>\n",
              "      <td>03/30/2020</td>\n",
              "      <td>Yukon</td>\n",
              "      <td>Canada</td>\n",
              "      <td>2020-03-30 22:58:55</td>\n",
              "      <td>4.0</td>\n",
              "      <td>0.0</td>\n",
              "      <td>0.0</td>\n",
              "    </tr>\n",
              "    <tr>\n",
              "      <th>10356</th>\n",
              "      <td>10357</td>\n",
              "      <td>03/30/2020</td>\n",
              "      <td>Yunnan</td>\n",
              "      <td>Mainland China</td>\n",
              "      <td>2020-03-30 22:58:55</td>\n",
              "      <td>180.0</td>\n",
              "      <td>2.0</td>\n",
              "      <td>172.0</td>\n",
              "    </tr>\n",
              "    <tr>\n",
              "      <th>10357</th>\n",
              "      <td>10358</td>\n",
              "      <td>03/30/2020</td>\n",
              "      <td>Zhejiang</td>\n",
              "      <td>Mainland China</td>\n",
              "      <td>2020-03-30 22:58:55</td>\n",
              "      <td>1255.0</td>\n",
              "      <td>1.0</td>\n",
              "      <td>1225.0</td>\n",
              "    </tr>\n",
              "  </tbody>\n",
              "</table>\n",
              "<p>10358 rows × 8 columns</p>\n",
              "</div>"
            ],
            "text/plain": [
              "         SNo ObservationDate Province/State  ... Confirmed Deaths  Recovered\n",
              "0          1      01/22/2020          Anhui  ...       1.0    0.0        0.0\n",
              "1          2      01/22/2020        Beijing  ...      14.0    0.0        0.0\n",
              "2          3      01/22/2020      Chongqing  ...       6.0    0.0        0.0\n",
              "3          4      01/22/2020         Fujian  ...       1.0    0.0        0.0\n",
              "4          5      01/22/2020          Gansu  ...       0.0    0.0        0.0\n",
              "...      ...             ...            ...  ...       ...    ...        ...\n",
              "10353  10354      03/30/2020        Wyoming  ...      94.0    0.0        0.0\n",
              "10354  10355      03/30/2020       Xinjiang  ...      76.0    3.0       73.0\n",
              "10355  10356      03/30/2020          Yukon  ...       4.0    0.0        0.0\n",
              "10356  10357      03/30/2020         Yunnan  ...     180.0    2.0      172.0\n",
              "10357  10358      03/30/2020       Zhejiang  ...    1255.0    1.0     1225.0\n",
              "\n",
              "[10358 rows x 8 columns]"
            ]
          },
          "metadata": {
            "tags": []
          },
          "execution_count": 80
        }
      ]
    }
  ]
}