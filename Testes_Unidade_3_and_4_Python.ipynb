{
  "nbformat": 4,
  "nbformat_minor": 0,
  "metadata": {
    "colab": {
      "name": "Testes_Unidade_3_and_4_Python.ipynb",
      "provenance": [],
      "authorship_tag": "ABX9TyPDnUPaXGFv+XGseWRckr82",
      "include_colab_link": true
    },
    "kernelspec": {
      "name": "python3",
      "display_name": "Python 3"
    }
  },
  "cells": [
    {
      "cell_type": "markdown",
      "metadata": {
        "id": "view-in-github",
        "colab_type": "text"
      },
      "source": [
        "<a href=\"https://colab.research.google.com/github/josiemerson/learning_python/blob/master/Testes_Unidade_3_and_4_Python.ipynb\" target=\"_parent\"><img src=\"https://colab.research.google.com/assets/colab-badge.svg\" alt=\"Open In Colab\"/></a>"
      ]
    },
    {
      "cell_type": "markdown",
      "metadata": {
        "id": "9Pkt9KsH_VHS",
        "colab_type": "text"
      },
      "source": [
        "**Pergunta 1** Qual a saída correta para o código a seguir?\n"
      ]
    },
    {
      "cell_type": "code",
      "metadata": {
        "id": "E9AOwIUw9blG",
        "colab_type": "code",
        "colab": {
          "base_uri": "https://localhost:8080/",
          "height": 50
        },
        "outputId": "0ab167ef-507a-47b0-a9b9-ba9d7086609f"
      },
      "source": [
        "import numpy as np\n",
        "series = [[23, 45, 12, 679], [14, 48, 69, 38]]\n",
        "new_series = np.array(series)\n",
        "print(new_series.ndim)\n",
        "print(new_series.shape)"
      ],
      "execution_count": null,
      "outputs": [
        {
          "output_type": "stream",
          "text": [
            "2\n",
            "(2, 4)\n"
          ],
          "name": "stdout"
        }
      ]
    },
    {
      "cell_type": "markdown",
      "metadata": {
        "id": "owx4kVqH90hP",
        "colab_type": "text"
      },
      "source": [
        "**Pergunta 2:** Vamos supor que eu queira criar um ndarray de uma dimensão, com 10 posições armazenando o valor 4. Quais das seguintes formas são corretas?"
      ]
    },
    {
      "cell_type": "code",
      "metadata": {
        "id": "SLiwndbt9wgK",
        "colab_type": "code",
        "colab": {
          "base_uri": "https://localhost:8080/",
          "height": 101
        },
        "outputId": "840370cb-4c48-4421-90fb-d4c105503bd3"
      },
      "source": [
        "import numpy as np\n",
        "a = np.zeros(10) + 4\n",
        "print(a)\n",
        "\n",
        "a = np.zeros(10) * 4\n",
        "print(a)\n",
        "\n",
        "a = np.ones(10) * 4\n",
        "print(a)\n",
        "\n",
        "a = np.ones(10) + 4\n",
        "print(a)\n",
        "\n",
        "a = np.full(10, 4)\n",
        "print(a)"
      ],
      "execution_count": null,
      "outputs": [
        {
          "output_type": "stream",
          "text": [
            "[4. 4. 4. 4. 4. 4. 4. 4. 4. 4.]\n",
            "[0. 0. 0. 0. 0. 0. 0. 0. 0. 0.]\n",
            "[4. 4. 4. 4. 4. 4. 4. 4. 4. 4.]\n",
            "[5. 5. 5. 5. 5. 5. 5. 5. 5. 5.]\n",
            "[4 4 4 4 4 4 4 4 4 4]\n"
          ],
          "name": "stdout"
        }
      ]
    },
    {
      "cell_type": "markdown",
      "metadata": {
        "id": "SNZD4o1g-lB6",
        "colab_type": "text"
      },
      "source": [
        "**Pergunta 3** Qual é a saída correta para o código Python a seguir?"
      ]
    },
    {
      "cell_type": "code",
      "metadata": {
        "id": "_tMFDIhc-vIp",
        "colab_type": "code",
        "colab": {
          "base_uri": "https://localhost:8080/",
          "height": 34
        },
        "outputId": "8035a664-c8e7-4ca4-be3a-06cd6ba4e854"
      },
      "source": [
        "import numpy as np\n",
        "dataset = np.array(['paul', 'jacob', 'vince', 'paul', 'miky',  'larence', 'warren'])\n",
        "print(dataset == 'paul')"
      ],
      "execution_count": null,
      "outputs": [
        {
          "output_type": "stream",
          "text": [
            "[ True False False  True False False False]\n"
          ],
          "name": "stdout"
        }
      ]
    },
    {
      "cell_type": "markdown",
      "metadata": {
        "id": "ter-yivE_EET",
        "colab_type": "text"
      },
      "source": [
        "**Pergunta 4** Qual é a saída para o código a seguir?"
      ]
    },
    {
      "cell_type": "code",
      "metadata": {
        "id": "5heQKlFH_Ilg",
        "colab_type": "code",
        "colab": {
          "base_uri": "https://localhost:8080/",
          "height": 34
        },
        "outputId": "56636202-e8ee-4f26-b93a-446f885c1ea0"
      },
      "source": [
        "import numpy as np\n",
        "percentiles = [98, 76.37, 55.55, 69, 88]\n",
        "first_subject = np.array(percentiles)\n",
        "print(first_subject.dtype.name)\n",
        "#print(first_subject.dtype)"
      ],
      "execution_count": null,
      "outputs": [
        {
          "output_type": "stream",
          "text": [
            "float64\n"
          ],
          "name": "stdout"
        }
      ]
    },
    {
      "cell_type": "markdown",
      "metadata": {
        "id": "0XS0qIPCACoe",
        "colab_type": "text"
      },
      "source": [
        "**Pergunta 5** Quais das opções substituem todos os números pares do array abaixo por -1?"
      ]
    },
    {
      "cell_type": "code",
      "metadata": {
        "id": "ZPEtQ-xTAN3g",
        "colab_type": "code",
        "colab": {
          "base_uri": "https://localhost:8080/",
          "height": 34
        },
        "outputId": "c309380c-e28d-4ccf-f812-9bb594482ab3"
      },
      "source": [
        "import numpy as np\n",
        "arr = np.array([0, 1, 2, 3, 4, 5, 6, 7, 8, 9])\n",
        "arr[::2] = -1\n",
        "#arr[1::2] = -1\n",
        "#arr[arr % 2 == 0] = -1\n",
        "#d = arr[-2::-2] = -1\n",
        "arr"
      ],
      "execution_count": null,
      "outputs": [
        {
          "output_type": "execute_result",
          "data": {
            "text/plain": [
              "array([-1,  1, -1,  3, -1,  5, -1,  7, -1,  9])"
            ]
          },
          "metadata": {
            "tags": []
          },
          "execution_count": 28
        }
      ]
    },
    {
      "cell_type": "markdown",
      "metadata": {
        "id": "jL5-co77C6ha",
        "colab_type": "text"
      },
      "source": [
        "**Pergunta 6** Após criar uma matriz identidade de 5 x 5, um programador deseja preencher os elementos acima e abaixo da diagonal principal como o número -1. Como ele pode fazer isso?"
      ]
    },
    {
      "cell_type": "code",
      "metadata": {
        "id": "fAILtN4vDKe-",
        "colab_type": "code",
        "colab": {
          "base_uri": "https://localhost:8080/",
          "height": 101
        },
        "outputId": "ca4dbcdc-a080-47ed-935b-849b7dda43d8"
      },
      "source": [
        "arr = np.eye(5)\n",
        "#arr[arr == 0] = -1\n",
        "#arr[arr != 1] = -1\n",
        "#arr = np.full((5x5),-1)\n",
        "#arr = arr - (np.eye(5) + 1)\n",
        "arr"
      ],
      "execution_count": null,
      "outputs": [
        {
          "output_type": "execute_result",
          "data": {
            "text/plain": [
              "array([[-1., -1., -1., -1., -1.],\n",
              "       [-1., -1., -1., -1., -1.],\n",
              "       [-1., -1., -1., -1., -1.],\n",
              "       [-1., -1., -1., -1., -1.],\n",
              "       [-1., -1., -1., -1., -1.]])"
            ]
          },
          "metadata": {
            "tags": []
          },
          "execution_count": 38
        }
      ]
    },
    {
      "cell_type": "markdown",
      "metadata": {
        "id": "IseqNBi6GuGl",
        "colab_type": "text"
      },
      "source": [
        "**Atividades Objetiva 04**\n",
        "\n",
        "**Pergunta 1** Assim como o ndarray do NumPy, os objetos DataFrame e Series do Pandas possuem o atributo shape que é utilizado para verificar e manipular as dimensões dessas estruturas de dados."
      ]
    },
    {
      "cell_type": "code",
      "metadata": {
        "id": "SsELhUSGG49g",
        "colab_type": "code",
        "colab": {}
      },
      "source": [
        "##true (Coloquei errado o correto é false (Não é possível manipular as dimensões do DataFrame e Series atribuindo valores ao shape, como ocorre com o array do NumPy. Portanto a afirmação é falsa.))\n",
        "## Resposta correta : False"
      ],
      "execution_count": null,
      "outputs": []
    },
    {
      "cell_type": "markdown",
      "metadata": {
        "id": "w3kJ4RKBHwwX",
        "colab_type": "text"
      },
      "source": [
        "**Pergunta 2** Podemos afirmar que o DataFrame é um grupo de Series que compartilham um mesmo índice, ou seja, cada coluna de um DataFrame nada mais é do que uma Series."
      ]
    },
    {
      "cell_type": "code",
      "metadata": {
        "id": "MEv0dY65H1S-",
        "colab_type": "code",
        "colab": {}
      },
      "source": [
        "##false (Um objeto DataFrame é um conjunto de Series.)\n",
        "##Resposta correta: true"
      ],
      "execution_count": null,
      "outputs": []
    },
    {
      "cell_type": "markdown",
      "metadata": {
        "id": "0SJs__eFH2o3",
        "colab_type": "text"
      },
      "source": [
        "**Pergunta 3** Considere o trecho a seguir:"
      ]
    },
    {
      "cell_type": "code",
      "metadata": {
        "id": "p53WqKLBH6Ma",
        "colab_type": "code",
        "colab": {
          "base_uri": "https://localhost:8080/",
          "height": 50
        },
        "outputId": "c1f603a2-bfad-475d-a5f2-f4bc36b0162a"
      },
      "source": [
        "import pandas as pd\n",
        "nomes = (\"Minas Gerais\", \"Amazonas\", \"Maranhão\", \"Goiás\", \"Santa Catarina\")\n",
        "siglas = (\"MG\", \"AM\", \"MA\", \"GO\", \"SC\")\n",
        "estados = pd.Series(siglas, nomes)\n",
        "print(estados.get('Minas Gerais'))\n",
        "print(estados['Minas Gerais'])"
      ],
      "execution_count": null,
      "outputs": [
        {
          "output_type": "stream",
          "text": [
            "MG\n",
            "MG\n"
          ],
          "name": "stdout"
        }
      ]
    },
    {
      "cell_type": "markdown",
      "metadata": {
        "id": "tosN_YqwJIEA",
        "colab_type": "text"
      },
      "source": [
        "**Pergunta 4** Por Padrão, os métodos do Pandas pr.read_csv e pd.read_excel retornam um objeto DataFrame mesmo que os dados estejam em apenas 1 dimensão. Para alterar esse comportamento, deve-se passar os parâmetro squeeze = True."
      ]
    },
    {
      "cell_type": "code",
      "metadata": {
        "id": "D6m6uQXDJarW",
        "colab_type": "code",
        "colab": {}
      },
      "source": [
        "import pandas as pd"
      ],
      "execution_count": null,
      "outputs": []
    },
    {
      "cell_type": "markdown",
      "metadata": {
        "id": "RUObdEs3OEU-",
        "colab_type": "text"
      },
      "source": [
        "**Pergunta 5** Suponha que o DataFrame df tenha sido criado conforme o código a seguir:"
      ]
    },
    {
      "cell_type": "code",
      "metadata": {
        "id": "j3o0IbRTOQcE",
        "colab_type": "code",
        "colab": {
          "base_uri": "https://localhost:8080/",
          "height": 195
        },
        "outputId": "21949ed7-eab6-4b5c-a60e-15349f88b1da"
      },
      "source": [
        "import pandas as pd\n",
        "df = pd.read_csv('https://raw.githubusercontent.com/sandeco/CanalSandeco/master/covid-19/covid_19_data.csv')\n",
        "#Quais as instruções que podemos utilizar para retornar as primeiras 5 linhas do DataFrame df.\n",
        "''' Resposta: \n",
        "    df.head() e \n",
        "    df.head(5)\n",
        "'''\n",
        "#df.head() # retorna as primeiras 5 linhas\n",
        "#df.head(5)# retorna as primeiras 5 linhas\n",
        "#df.tail() # retorna as ultimas 5 linhas\n",
        "df.tail(5)# retorna as ultimas 5 linhas\n",
        "#df.sample(5) # retorna 5 linhas aleatórias"
      ],
      "execution_count": 1,
      "outputs": [
        {
          "output_type": "execute_result",
          "data": {
            "text/html": [
              "<div>\n",
              "<style scoped>\n",
              "    .dataframe tbody tr th:only-of-type {\n",
              "        vertical-align: middle;\n",
              "    }\n",
              "\n",
              "    .dataframe tbody tr th {\n",
              "        vertical-align: top;\n",
              "    }\n",
              "\n",
              "    .dataframe thead th {\n",
              "        text-align: right;\n",
              "    }\n",
              "</style>\n",
              "<table border=\"1\" class=\"dataframe\">\n",
              "  <thead>\n",
              "    <tr style=\"text-align: right;\">\n",
              "      <th></th>\n",
              "      <th>SNo</th>\n",
              "      <th>ObservationDate</th>\n",
              "      <th>Province/State</th>\n",
              "      <th>Country/Region</th>\n",
              "      <th>Last Update</th>\n",
              "      <th>Confirmed</th>\n",
              "      <th>Deaths</th>\n",
              "      <th>Recovered</th>\n",
              "    </tr>\n",
              "  </thead>\n",
              "  <tbody>\n",
              "    <tr>\n",
              "      <th>10353</th>\n",
              "      <td>10354</td>\n",
              "      <td>03/30/2020</td>\n",
              "      <td>Wyoming</td>\n",
              "      <td>US</td>\n",
              "      <td>2020-03-30 22:58:55</td>\n",
              "      <td>94.0</td>\n",
              "      <td>0.0</td>\n",
              "      <td>0.0</td>\n",
              "    </tr>\n",
              "    <tr>\n",
              "      <th>10354</th>\n",
              "      <td>10355</td>\n",
              "      <td>03/30/2020</td>\n",
              "      <td>Xinjiang</td>\n",
              "      <td>Mainland China</td>\n",
              "      <td>2020-03-30 22:58:55</td>\n",
              "      <td>76.0</td>\n",
              "      <td>3.0</td>\n",
              "      <td>73.0</td>\n",
              "    </tr>\n",
              "    <tr>\n",
              "      <th>10355</th>\n",
              "      <td>10356</td>\n",
              "      <td>03/30/2020</td>\n",
              "      <td>Yukon</td>\n",
              "      <td>Canada</td>\n",
              "      <td>2020-03-30 22:58:55</td>\n",
              "      <td>4.0</td>\n",
              "      <td>0.0</td>\n",
              "      <td>0.0</td>\n",
              "    </tr>\n",
              "    <tr>\n",
              "      <th>10356</th>\n",
              "      <td>10357</td>\n",
              "      <td>03/30/2020</td>\n",
              "      <td>Yunnan</td>\n",
              "      <td>Mainland China</td>\n",
              "      <td>2020-03-30 22:58:55</td>\n",
              "      <td>180.0</td>\n",
              "      <td>2.0</td>\n",
              "      <td>172.0</td>\n",
              "    </tr>\n",
              "    <tr>\n",
              "      <th>10357</th>\n",
              "      <td>10358</td>\n",
              "      <td>03/30/2020</td>\n",
              "      <td>Zhejiang</td>\n",
              "      <td>Mainland China</td>\n",
              "      <td>2020-03-30 22:58:55</td>\n",
              "      <td>1255.0</td>\n",
              "      <td>1.0</td>\n",
              "      <td>1225.0</td>\n",
              "    </tr>\n",
              "  </tbody>\n",
              "</table>\n",
              "</div>"
            ],
            "text/plain": [
              "         SNo ObservationDate Province/State  ... Confirmed Deaths  Recovered\n",
              "10353  10354      03/30/2020        Wyoming  ...      94.0    0.0        0.0\n",
              "10354  10355      03/30/2020       Xinjiang  ...      76.0    3.0       73.0\n",
              "10355  10356      03/30/2020          Yukon  ...       4.0    0.0        0.0\n",
              "10356  10357      03/30/2020         Yunnan  ...     180.0    2.0      172.0\n",
              "10357  10358      03/30/2020       Zhejiang  ...    1255.0    1.0     1225.0\n",
              "\n",
              "[5 rows x 8 columns]"
            ]
          },
          "metadata": {
            "tags": []
          },
          "execution_count": 1
        }
      ]
    },
    {
      "cell_type": "markdown",
      "metadata": {
        "id": "BIaXeWU7PgVY",
        "colab_type": "text"
      },
      "source": [
        "**Pergunta 6** Suponha o DataFrame df possua as colunas A,B,C e D. Marque abaixo as alternativas que **removem** a coluna C (e não apenas retornem o DataFrame sem a coluna) o DataFrame df, deixando apenas as colunas A, B e D."
      ]
    },
    {
      "cell_type": "code",
      "metadata": {
        "id": "lWSAXduKQTHy",
        "colab_type": "code",
        "colab": {
          "base_uri": "https://localhost:8080/",
          "height": 402
        },
        "outputId": "b6618aad-034f-4d68-9330-1c948f720e64"
      },
      "source": [
        "import pandas as pd\n",
        "df = pd.read_csv('https://raw.githubusercontent.com/sandeco/CanalSandeco/master/covid-19/covid_19_data.csv')\n",
        "#df.drop(\"Confirmed\", axis = 1, inplace= True) #remove a coluna \"Confirmed\" do df\n",
        "#df = df.drop(\"Confirmed\", axis = 1) # remove a coluna \"Confirmed\" do df\n",
        "#df.drop(\"Confirmed\", axis = 1) #remove a coluna \"Confirmed\" apenas da visualização do df, mas não dropa do df.\n",
        "#df.drop(\"Confirmed\", axis = 0, inplace = True) # ocorre exception não encontrou axis 0\n",
        "df"
      ],
      "execution_count": null,
      "outputs": [
        {
          "output_type": "execute_result",
          "data": {
            "text/html": [
              "<div>\n",
              "<style scoped>\n",
              "    .dataframe tbody tr th:only-of-type {\n",
              "        vertical-align: middle;\n",
              "    }\n",
              "\n",
              "    .dataframe tbody tr th {\n",
              "        vertical-align: top;\n",
              "    }\n",
              "\n",
              "    .dataframe thead th {\n",
              "        text-align: right;\n",
              "    }\n",
              "</style>\n",
              "<table border=\"1\" class=\"dataframe\">\n",
              "  <thead>\n",
              "    <tr style=\"text-align: right;\">\n",
              "      <th></th>\n",
              "      <th>SNo</th>\n",
              "      <th>ObservationDate</th>\n",
              "      <th>Province/State</th>\n",
              "      <th>Country/Region</th>\n",
              "      <th>Last Update</th>\n",
              "      <th>Confirmed</th>\n",
              "      <th>Deaths</th>\n",
              "      <th>Recovered</th>\n",
              "    </tr>\n",
              "  </thead>\n",
              "  <tbody>\n",
              "    <tr>\n",
              "      <th>0</th>\n",
              "      <td>1</td>\n",
              "      <td>01/22/2020</td>\n",
              "      <td>Anhui</td>\n",
              "      <td>Mainland China</td>\n",
              "      <td>1/22/2020 17:00</td>\n",
              "      <td>1.0</td>\n",
              "      <td>0.0</td>\n",
              "      <td>0.0</td>\n",
              "    </tr>\n",
              "    <tr>\n",
              "      <th>1</th>\n",
              "      <td>2</td>\n",
              "      <td>01/22/2020</td>\n",
              "      <td>Beijing</td>\n",
              "      <td>Mainland China</td>\n",
              "      <td>1/22/2020 17:00</td>\n",
              "      <td>14.0</td>\n",
              "      <td>0.0</td>\n",
              "      <td>0.0</td>\n",
              "    </tr>\n",
              "    <tr>\n",
              "      <th>2</th>\n",
              "      <td>3</td>\n",
              "      <td>01/22/2020</td>\n",
              "      <td>Chongqing</td>\n",
              "      <td>Mainland China</td>\n",
              "      <td>1/22/2020 17:00</td>\n",
              "      <td>6.0</td>\n",
              "      <td>0.0</td>\n",
              "      <td>0.0</td>\n",
              "    </tr>\n",
              "    <tr>\n",
              "      <th>3</th>\n",
              "      <td>4</td>\n",
              "      <td>01/22/2020</td>\n",
              "      <td>Fujian</td>\n",
              "      <td>Mainland China</td>\n",
              "      <td>1/22/2020 17:00</td>\n",
              "      <td>1.0</td>\n",
              "      <td>0.0</td>\n",
              "      <td>0.0</td>\n",
              "    </tr>\n",
              "    <tr>\n",
              "      <th>4</th>\n",
              "      <td>5</td>\n",
              "      <td>01/22/2020</td>\n",
              "      <td>Gansu</td>\n",
              "      <td>Mainland China</td>\n",
              "      <td>1/22/2020 17:00</td>\n",
              "      <td>0.0</td>\n",
              "      <td>0.0</td>\n",
              "      <td>0.0</td>\n",
              "    </tr>\n",
              "    <tr>\n",
              "      <th>...</th>\n",
              "      <td>...</td>\n",
              "      <td>...</td>\n",
              "      <td>...</td>\n",
              "      <td>...</td>\n",
              "      <td>...</td>\n",
              "      <td>...</td>\n",
              "      <td>...</td>\n",
              "      <td>...</td>\n",
              "    </tr>\n",
              "    <tr>\n",
              "      <th>10353</th>\n",
              "      <td>10354</td>\n",
              "      <td>03/30/2020</td>\n",
              "      <td>Wyoming</td>\n",
              "      <td>US</td>\n",
              "      <td>2020-03-30 22:58:55</td>\n",
              "      <td>94.0</td>\n",
              "      <td>0.0</td>\n",
              "      <td>0.0</td>\n",
              "    </tr>\n",
              "    <tr>\n",
              "      <th>10354</th>\n",
              "      <td>10355</td>\n",
              "      <td>03/30/2020</td>\n",
              "      <td>Xinjiang</td>\n",
              "      <td>Mainland China</td>\n",
              "      <td>2020-03-30 22:58:55</td>\n",
              "      <td>76.0</td>\n",
              "      <td>3.0</td>\n",
              "      <td>73.0</td>\n",
              "    </tr>\n",
              "    <tr>\n",
              "      <th>10355</th>\n",
              "      <td>10356</td>\n",
              "      <td>03/30/2020</td>\n",
              "      <td>Yukon</td>\n",
              "      <td>Canada</td>\n",
              "      <td>2020-03-30 22:58:55</td>\n",
              "      <td>4.0</td>\n",
              "      <td>0.0</td>\n",
              "      <td>0.0</td>\n",
              "    </tr>\n",
              "    <tr>\n",
              "      <th>10356</th>\n",
              "      <td>10357</td>\n",
              "      <td>03/30/2020</td>\n",
              "      <td>Yunnan</td>\n",
              "      <td>Mainland China</td>\n",
              "      <td>2020-03-30 22:58:55</td>\n",
              "      <td>180.0</td>\n",
              "      <td>2.0</td>\n",
              "      <td>172.0</td>\n",
              "    </tr>\n",
              "    <tr>\n",
              "      <th>10357</th>\n",
              "      <td>10358</td>\n",
              "      <td>03/30/2020</td>\n",
              "      <td>Zhejiang</td>\n",
              "      <td>Mainland China</td>\n",
              "      <td>2020-03-30 22:58:55</td>\n",
              "      <td>1255.0</td>\n",
              "      <td>1.0</td>\n",
              "      <td>1225.0</td>\n",
              "    </tr>\n",
              "  </tbody>\n",
              "</table>\n",
              "<p>10358 rows × 8 columns</p>\n",
              "</div>"
            ],
            "text/plain": [
              "         SNo ObservationDate Province/State  ... Confirmed Deaths  Recovered\n",
              "0          1      01/22/2020          Anhui  ...       1.0    0.0        0.0\n",
              "1          2      01/22/2020        Beijing  ...      14.0    0.0        0.0\n",
              "2          3      01/22/2020      Chongqing  ...       6.0    0.0        0.0\n",
              "3          4      01/22/2020         Fujian  ...       1.0    0.0        0.0\n",
              "4          5      01/22/2020          Gansu  ...       0.0    0.0        0.0\n",
              "...      ...             ...            ...  ...       ...    ...        ...\n",
              "10353  10354      03/30/2020        Wyoming  ...      94.0    0.0        0.0\n",
              "10354  10355      03/30/2020       Xinjiang  ...      76.0    3.0       73.0\n",
              "10355  10356      03/30/2020          Yukon  ...       4.0    0.0        0.0\n",
              "10356  10357      03/30/2020         Yunnan  ...     180.0    2.0      172.0\n",
              "10357  10358      03/30/2020       Zhejiang  ...    1255.0    1.0     1225.0\n",
              "\n",
              "[10358 rows x 8 columns]"
            ]
          },
          "metadata": {
            "tags": []
          },
          "execution_count": 80
        }
      ]
    },
    {
      "cell_type": "markdown",
      "metadata": {
        "id": "gY--j0hxYiTd",
        "colab_type": "text"
      },
      "source": [
        "**--------------------- Initialized class module for------------**"
      ]
    },
    {
      "cell_type": "code",
      "metadata": {
        "id": "_QVwOoYkV8zO",
        "colab_type": "code",
        "colab": {}
      },
      "source": [
        "import pandas as pd\n",
        "import numpy as np"
      ],
      "execution_count": 8,
      "outputs": []
    },
    {
      "cell_type": "markdown",
      "metadata": {
        "id": "9MldluCLYTs2",
        "colab_type": "text"
      },
      "source": [
        "**Criando Series a partir de listas**"
      ]
    },
    {
      "cell_type": "code",
      "metadata": {
        "id": "AqrDNPgrYfjr",
        "colab_type": "code",
        "colab": {
          "base_uri": "https://localhost:8080/",
          "height": 34
        },
        "outputId": "fcef2492-4ba6-42b8-8498-4e1a147581ad"
      },
      "source": [
        "idades = [68, 23, 17, 39, 25, 58]\n",
        "idades"
      ],
      "execution_count": 9,
      "outputs": [
        {
          "output_type": "execute_result",
          "data": {
            "text/plain": [
              "[68, 23, 17, 39, 25, 58]"
            ]
          },
          "metadata": {
            "tags": []
          },
          "execution_count": 9
        }
      ]
    },
    {
      "cell_type": "code",
      "metadata": {
        "id": "2Np1a0HgY4eE",
        "colab_type": "code",
        "colab": {
          "base_uri": "https://localhost:8080/",
          "height": 134
        },
        "outputId": "66d62a66-bcb6-467e-d227-2141a4144256"
      },
      "source": [
        "s = pd.Series(idades)\n",
        "s"
      ],
      "execution_count": 10,
      "outputs": [
        {
          "output_type": "execute_result",
          "data": {
            "text/plain": [
              "0    68\n",
              "1    23\n",
              "2    17\n",
              "3    39\n",
              "4    25\n",
              "5    58\n",
              "dtype: int64"
            ]
          },
          "metadata": {
            "tags": []
          },
          "execution_count": 10
        }
      ]
    },
    {
      "cell_type": "code",
      "metadata": {
        "id": "bWpjT6XdY-BH",
        "colab_type": "code",
        "colab": {
          "base_uri": "https://localhost:8080/",
          "height": 34
        },
        "outputId": "20668c2d-ac1e-413a-89e0-68212bdda6f8"
      },
      "source": [
        "#Como retornar a idade 39?\n",
        "s[3]"
      ],
      "execution_count": 11,
      "outputs": [
        {
          "output_type": "execute_result",
          "data": {
            "text/plain": [
              "39"
            ]
          },
          "metadata": {
            "tags": []
          },
          "execution_count": 11
        }
      ]
    },
    {
      "cell_type": "code",
      "metadata": {
        "id": "_c0FzBOtZKku",
        "colab_type": "code",
        "colab": {
          "base_uri": "https://localhost:8080/",
          "height": 134
        },
        "outputId": "63f0c348-125e-4cb5-d0c8-c8126250b505"
      },
      "source": [
        "s = pd.Series([68, 23, 17, 39, 25, 58])\n",
        "s"
      ],
      "execution_count": 12,
      "outputs": [
        {
          "output_type": "execute_result",
          "data": {
            "text/plain": [
              "0    68\n",
              "1    23\n",
              "2    17\n",
              "3    39\n",
              "4    25\n",
              "5    58\n",
              "dtype: int64"
            ]
          },
          "metadata": {
            "tags": []
          },
          "execution_count": 12
        }
      ]
    },
    {
      "cell_type": "code",
      "metadata": {
        "id": "VGSxaFHEZS_5",
        "colab_type": "code",
        "colab": {}
      },
      "source": [
        "pessoas = ['Eni','Bia','Flávio','Carlos','Dedé','Abigail']"
      ],
      "execution_count": 13,
      "outputs": []
    },
    {
      "cell_type": "code",
      "metadata": {
        "id": "uJn9ynlZZwHu",
        "colab_type": "code",
        "colab": {
          "base_uri": "https://localhost:8080/",
          "height": 134
        },
        "outputId": "3f54a0d9-dd22-4c5b-da9b-9521651d27d2"
      },
      "source": [
        "s1 = pd.Series(idades, pessoas)\n",
        "s1"
      ],
      "execution_count": 17,
      "outputs": [
        {
          "output_type": "execute_result",
          "data": {
            "text/plain": [
              "Eni        68\n",
              "Bia        23\n",
              "Flávio     17\n",
              "Carlos     39\n",
              "Dedé       25\n",
              "Abigail    58\n",
              "dtype: int64"
            ]
          },
          "metadata": {
            "tags": []
          },
          "execution_count": 17
        }
      ]
    },
    {
      "cell_type": "code",
      "metadata": {
        "id": "K6mwP0wqZ7fw",
        "colab_type": "code",
        "colab": {
          "base_uri": "https://localhost:8080/",
          "height": 34
        },
        "outputId": "2d84557f-9532-46e3-cf88-3aebded1e92f"
      },
      "source": [
        "#Como retornar a idade 25, agora que a série está rotulada?\n",
        "s1['Dedé']"
      ],
      "execution_count": 18,
      "outputs": [
        {
          "output_type": "execute_result",
          "data": {
            "text/plain": [
              "25"
            ]
          },
          "metadata": {
            "tags": []
          },
          "execution_count": 18
        }
      ]
    },
    {
      "cell_type": "code",
      "metadata": {
        "id": "zXaZvHoJaIeL",
        "colab_type": "code",
        "colab": {
          "base_uri": "https://localhost:8080/",
          "height": 134
        },
        "outputId": "98807d21-3528-4cf4-e503-213f27591bf3"
      },
      "source": [
        "s2 = pd.Series(index=pessoas, data= idades)\n",
        "s2"
      ],
      "execution_count": 23,
      "outputs": [
        {
          "output_type": "execute_result",
          "data": {
            "text/plain": [
              "Eni        68\n",
              "Bia        23\n",
              "Flávio     17\n",
              "Carlos     39\n",
              "Dedé       25\n",
              "Abigail    58\n",
              "dtype: int64"
            ]
          },
          "metadata": {
            "tags": []
          },
          "execution_count": 23
        }
      ]
    },
    {
      "cell_type": "markdown",
      "metadata": {
        "id": "s52F4HdPas2W",
        "colab_type": "text"
      },
      "source": [
        "-----------**Criando Series a partir de tuplas**----------"
      ]
    },
    {
      "cell_type": "code",
      "metadata": {
        "id": "jog5RA4haytP",
        "colab_type": "code",
        "colab": {
          "base_uri": "https://localhost:8080/",
          "height": 34
        },
        "outputId": "3a102123-1fef-4e01-e1c8-995d5c44c2e5"
      },
      "source": [
        "# Minas Gerais teve seu nome digitado errado de forma intencional\n",
        "nomes = ('Mnas Gerais', 'Amazonas', 'Maranhão', 'Goiás', 'Santa Catarina')\n",
        "nomes"
      ],
      "execution_count": 39,
      "outputs": [
        {
          "output_type": "execute_result",
          "data": {
            "text/plain": [
              "('Mnas Gerais', 'Amazonas', 'Maranhão', 'Goiás', 'Santa Catarina')"
            ]
          },
          "metadata": {
            "tags": []
          },
          "execution_count": 39
        }
      ]
    },
    {
      "cell_type": "code",
      "metadata": {
        "id": "8w-MSolobM0t",
        "colab_type": "code",
        "colab": {
          "base_uri": "https://localhost:8080/",
          "height": 34
        },
        "outputId": "ec22ee35-f739-4c9c-f1ba-b28edfd26288"
      },
      "source": [
        "siglas = ('MG','AM','MA','GO','SC')\n",
        "siglas"
      ],
      "execution_count": 25,
      "outputs": [
        {
          "output_type": "execute_result",
          "data": {
            "text/plain": [
              "('MG', 'AM', 'MA', 'GO', 'SC')"
            ]
          },
          "metadata": {
            "tags": []
          },
          "execution_count": 25
        }
      ]
    },
    {
      "cell_type": "code",
      "metadata": {
        "id": "7fHc9R6tbVir",
        "colab_type": "code",
        "colab": {
          "base_uri": "https://localhost:8080/",
          "height": 118
        },
        "outputId": "ece41047-8688-4c13-aee4-fb6a5e30d8c0"
      },
      "source": [
        "estados = pd.Series(nomes, siglas)\n",
        "estados"
      ],
      "execution_count": 26,
      "outputs": [
        {
          "output_type": "execute_result",
          "data": {
            "text/plain": [
              "MG       Mnas Gerais\n",
              "AM          Amazonas\n",
              "MA          Maranhão\n",
              "GO             Goiás\n",
              "SC    Santa Catarina\n",
              "dtype: object"
            ]
          },
          "metadata": {
            "tags": []
          },
          "execution_count": 26
        }
      ]
    },
    {
      "cell_type": "code",
      "metadata": {
        "id": "9z6qzSS-bbII",
        "colab_type": "code",
        "colab": {
          "base_uri": "https://localhost:8080/",
          "height": 118
        },
        "outputId": "152fc789-3cd2-4294-9465-7f100c3f33aa"
      },
      "source": [
        "''' Neste caso abaixo eu consigo fazer alteração pois não estou alterando a tupla \n",
        "    mas sim o objeto Series, quando o objeto Series foi criado ele copiou cada elemento da tupla para o Objeto Series.\n",
        "    Lembra que o objeto tupla é um objeto imutável (que não pode sofrer alteração )\n",
        "    Ex: se eu tentasse fazer a seguinte alteração daria erro, pois nomes é uma tupla ==>  ('Mnas Gerais', 'Amazonas')\n",
        "    nomes[0] = 'Minas Gerais\n",
        "'''\n",
        "estados[\"MG\"] = \"Minas Gerais\"\n",
        "estados"
      ],
      "execution_count": 42,
      "outputs": [
        {
          "output_type": "execute_result",
          "data": {
            "text/plain": [
              "MG      Minas Gerais\n",
              "AM          Amazonas\n",
              "MA          Maranhão\n",
              "GO             Goiás\n",
              "SC    Santa Catarina\n",
              "dtype: object"
            ]
          },
          "metadata": {
            "tags": []
          },
          "execution_count": 42
        }
      ]
    },
    {
      "cell_type": "markdown",
      "metadata": {
        "id": "4DWENk0pblIK",
        "colab_type": "text"
      },
      "source": [
        "-----**Criando Series a partir de arrays Numpy**------\n"
      ]
    },
    {
      "cell_type": "code",
      "metadata": {
        "id": "7crPrXnwbjYL",
        "colab_type": "code",
        "colab": {
          "base_uri": "https://localhost:8080/",
          "height": 34
        },
        "outputId": "4bc32bb7-5f13-43f3-b49f-f26bc018a621"
      },
      "source": [
        "precos = np.array([25, 22, 18.5, 4.75, 3, 4.5, 2.3])\n",
        "precos"
      ],
      "execution_count": 28,
      "outputs": [
        {
          "output_type": "execute_result",
          "data": {
            "text/plain": [
              "array([25.  , 22.  , 18.5 ,  4.75,  3.  ,  4.5 ,  2.3 ])"
            ]
          },
          "metadata": {
            "tags": []
          },
          "execution_count": 28
        }
      ]
    },
    {
      "cell_type": "code",
      "metadata": {
        "id": "DBRr0WrIb4YX",
        "colab_type": "code",
        "colab": {
          "base_uri": "https://localhost:8080/",
          "height": 35
        },
        "outputId": "67e2b50d-8b56-4688-e76d-db1213236863"
      },
      "source": [
        "type(precos)\n",
        "precos.ndim ## retorna dimensão 1\n",
        "precos.dtype ## retorna dtype('float64')\n",
        "precos.dtype.name ## retorna 'float64'"
      ],
      "execution_count": 34,
      "outputs": [
        {
          "output_type": "execute_result",
          "data": {
            "application/vnd.google.colaboratory.intrinsic+json": {
              "type": "string"
            },
            "text/plain": [
              "'float64'"
            ]
          },
          "metadata": {
            "tags": []
          },
          "execution_count": 34
        }
      ]
    },
    {
      "cell_type": "code",
      "metadata": {
        "id": "aPLq-jpmcY-Q",
        "colab_type": "code",
        "colab": {
          "base_uri": "https://localhost:8080/",
          "height": 50
        },
        "outputId": "ee304be7-d110-45a3-c801-8d3a330ee787"
      },
      "source": [
        "lanches = np.array(['X-tudo', 'X-Bacon', 'Bauru', 'Misto-quente', 'Pão-de-queijo', 'Coxinha', 'Pastel'])\n",
        "lanches"
      ],
      "execution_count": 35,
      "outputs": [
        {
          "output_type": "execute_result",
          "data": {
            "text/plain": [
              "array(['X-tudo', 'X-Bacon', 'Bauru', 'Misto-quente', 'Pão-de-queijo',\n",
              "       'Coxinha', 'Pastel'], dtype='<U13')"
            ]
          },
          "metadata": {
            "tags": []
          },
          "execution_count": 35
        }
      ]
    },
    {
      "cell_type": "code",
      "metadata": {
        "id": "TEvt61LgcpkY",
        "colab_type": "code",
        "colab": {
          "base_uri": "https://localhost:8080/",
          "height": 151
        },
        "outputId": "2e1766d9-48f8-45e0-f2f1-c1e553e61756"
      },
      "source": [
        "s3 = pd.Series(precos)\n",
        "s3"
      ],
      "execution_count": 36,
      "outputs": [
        {
          "output_type": "execute_result",
          "data": {
            "text/plain": [
              "0    25.00\n",
              "1    22.00\n",
              "2    18.50\n",
              "3     4.75\n",
              "4     3.00\n",
              "5     4.50\n",
              "6     2.30\n",
              "dtype: float64"
            ]
          },
          "metadata": {
            "tags": []
          },
          "execution_count": 36
        }
      ]
    },
    {
      "cell_type": "code",
      "metadata": {
        "id": "CbKCDjrLcvb4",
        "colab_type": "code",
        "colab": {
          "base_uri": "https://localhost:8080/",
          "height": 151
        },
        "outputId": "bb8ecfd3-2560-4151-ac38-69ad61f99542"
      },
      "source": [
        "cardapio = pd.Series(precos, lanches)\n",
        "cardapio"
      ],
      "execution_count": 43,
      "outputs": [
        {
          "output_type": "execute_result",
          "data": {
            "text/plain": [
              "X-tudo           25.00\n",
              "X-Bacon          22.00\n",
              "Bauru            18.50\n",
              "Misto-quente      4.75\n",
              "Pão-de-queijo     3.00\n",
              "Coxinha           4.50\n",
              "Pastel            2.30\n",
              "dtype: float64"
            ]
          },
          "metadata": {
            "tags": []
          },
          "execution_count": 43
        }
      ]
    },
    {
      "cell_type": "markdown",
      "metadata": {
        "id": "MTKsly0Den1X",
        "colab_type": "text"
      },
      "source": [
        "----------**Criando Series a partir de dicionários**----------"
      ]
    },
    {
      "cell_type": "code",
      "metadata": {
        "id": "hELu9VCceu9z",
        "colab_type": "code",
        "colab": {
          "base_uri": "https://localhost:8080/",
          "height": 101
        },
        "outputId": "7c7bdc67-1bde-4556-8c25-fc8a14b66bae"
      },
      "source": [
        "dic_estados = {'MG': {'Estado': 'Minas Gerais', 'Capital': \"Belo Horizonte\", 'População (2014)': 20777672},\n",
        "                'CE': {'Estado': 'Ceará', 'Capital': \"Fortaleza\", 'População (2014)': 8867448},\n",
        "                'MT': {'Estado': 'Mato Grosso', 'Capital': \"Cuiabá\", 'População (2014)': 3236578},\n",
        "                'RR': {'Estado': 'Roraima', 'Capital': \"Boa Vista\", 'População (2014)': 500826}}\n",
        "series_estados2 = pd.Series(dic_estados)\n",
        "series_estados2"
      ],
      "execution_count": 44,
      "outputs": [
        {
          "output_type": "execute_result",
          "data": {
            "text/plain": [
              "MG    {'Estado': 'Minas Gerais', 'Capital': 'Belo Ho...\n",
              "CE    {'Estado': 'Ceará', 'Capital': 'Fortaleza', 'P...\n",
              "MT    {'Estado': 'Mato Grosso', 'Capital': 'Cuiabá',...\n",
              "RR    {'Estado': 'Roraima', 'Capital': 'Boa Vista', ...\n",
              "dtype: object"
            ]
          },
          "metadata": {
            "tags": []
          },
          "execution_count": 44
        }
      ]
    },
    {
      "cell_type": "code",
      "metadata": {
        "id": "4Yb411E4gDr9",
        "colab_type": "code",
        "colab": {
          "base_uri": "https://localhost:8080/",
          "height": 34
        },
        "outputId": "04f1440d-2d96-43c3-c334-b300cd07e64c"
      },
      "source": [
        "series_estados2['MT']"
      ],
      "execution_count": 45,
      "outputs": [
        {
          "output_type": "execute_result",
          "data": {
            "text/plain": [
              "{'Capital': 'Cuiabá', 'Estado': 'Mato Grosso', 'População (2014)': 3236578}"
            ]
          },
          "metadata": {
            "tags": []
          },
          "execution_count": 45
        }
      ]
    },
    {
      "cell_type": "code",
      "metadata": {
        "id": "W9YkIsLGgGtW",
        "colab_type": "code",
        "colab": {
          "base_uri": "https://localhost:8080/",
          "height": 35
        },
        "outputId": "ebac1cb2-ef87-46eb-8901-b05e0c7f7ed8"
      },
      "source": [
        "series_estados2[\"RR\"][\"Capital\"]"
      ],
      "execution_count": 46,
      "outputs": [
        {
          "output_type": "execute_result",
          "data": {
            "application/vnd.google.colaboratory.intrinsic+json": {
              "type": "string"
            },
            "text/plain": [
              "'Boa Vista'"
            ]
          },
          "metadata": {
            "tags": []
          },
          "execution_count": 46
        }
      ]
    },
    {
      "cell_type": "markdown",
      "metadata": {
        "id": "s6EDEislgMkx",
        "colab_type": "text"
      },
      "source": [
        "------------**Criando Series a partir de arquivos.csv**--------------"
      ]
    },
    {
      "cell_type": "code",
      "metadata": {
        "id": "-OU3ilmugR4c",
        "colab_type": "code",
        "colab": {}
      },
      "source": [
        "#O arquivo idades.csv contém as idades de 100 pessoas(apenas 1 coluna)\n",
        "##Observação não esqueça que para importar um arquivo do github deve-se clicar em RAW\n",
        "idadescsv = pd.read_csv(\"https://raw.githubusercontent.com/josiemerson/learning_python/master/idades.csv\", warn_bad_lines=False, error_bad_lines=True)\n",
        "#idadescsv[3] # Retorna um erro pois o type do idadescsv é um DataFrame"
      ],
      "execution_count": 58,
      "outputs": []
    },
    {
      "cell_type": "code",
      "metadata": {
        "id": "5-Rs-3mnlHyB",
        "colab_type": "code",
        "colab": {
          "base_uri": "https://localhost:8080/",
          "height": 34
        },
        "outputId": "60a5ee47-6cd6-43d1-c411-ab6fb30a9279"
      },
      "source": [
        "type(idadescsv)"
      ],
      "execution_count": 57,
      "outputs": [
        {
          "output_type": "execute_result",
          "data": {
            "text/plain": [
              "pandas.core.frame.DataFrame"
            ]
          },
          "metadata": {
            "tags": []
          },
          "execution_count": 57
        }
      ]
    },
    {
      "cell_type": "code",
      "metadata": {
        "id": "p-oTSwmglPIb",
        "colab_type": "code",
        "colab": {
          "base_uri": "https://localhost:8080/",
          "height": 34
        },
        "outputId": "3a327b7d-b1ff-4046-cc69-90f52d2e9901"
      },
      "source": [
        "#Forma correta de acessar, mas vamos estudar o objeto DataFrame em outra aula.\n",
        "idadescsv['Idades'][3]"
      ],
      "execution_count": 59,
      "outputs": [
        {
          "output_type": "execute_result",
          "data": {
            "text/plain": [
              "18"
            ]
          },
          "metadata": {
            "tags": []
          },
          "execution_count": 59
        }
      ]
    },
    {
      "cell_type": "code",
      "metadata": {
        "id": "9ersLmP0lYoP",
        "colab_type": "code",
        "colab": {
          "base_uri": "https://localhost:8080/",
          "height": 118
        },
        "outputId": "fd64a25a-9e52-496f-a6b9-0202f8305385"
      },
      "source": [
        "#Passando o argumento squeeze = True(por default squeeze = False)\n",
        "#Quando squeeze = True, se os dados estiverem em apenas 1 dimensão, é então retornado uma Series\n",
        "idadescsv2 = pd.read_csv(\"https://raw.githubusercontent.com/josiemerson/learning_python/master/idades.csv\", squeeze= True)\n",
        "idadescsv2.head()"
      ],
      "execution_count": 60,
      "outputs": [
        {
          "output_type": "execute_result",
          "data": {
            "text/plain": [
              "0    55\n",
              "1    45\n",
              "2    74\n",
              "3    18\n",
              "4    21\n",
              "Name: Idades, dtype: int64"
            ]
          },
          "metadata": {
            "tags": []
          },
          "execution_count": 60
        }
      ]
    },
    {
      "cell_type": "code",
      "metadata": {
        "id": "u7yc9fg8l4dq",
        "colab_type": "code",
        "colab": {
          "base_uri": "https://localhost:8080/",
          "height": 34
        },
        "outputId": "b1ee5f21-98b6-4858-fb03-91144a66805c"
      },
      "source": [
        "type(idadescsv2)"
      ],
      "execution_count": 61,
      "outputs": [
        {
          "output_type": "execute_result",
          "data": {
            "text/plain": [
              "pandas.core.series.Series"
            ]
          },
          "metadata": {
            "tags": []
          },
          "execution_count": 61
        }
      ]
    },
    {
      "cell_type": "code",
      "metadata": {
        "id": "Gm6-TwuRl68H",
        "colab_type": "code",
        "colab": {
          "base_uri": "https://localhost:8080/",
          "height": 209
        },
        "outputId": "3eff2446-822e-444f-bedd-ca34b382b775"
      },
      "source": [
        "idadescsv3 = pd.read_csv(\"https://raw.githubusercontent.com/josiemerson/learning_python/master/idades.csv\", index_col = 0, squeeze= True)\n",
        "idadescsv3.head()"
      ],
      "execution_count": 62,
      "outputs": [
        {
          "output_type": "execute_result",
          "data": {
            "text/html": [
              "<div>\n",
              "<style scoped>\n",
              "    .dataframe tbody tr th:only-of-type {\n",
              "        vertical-align: middle;\n",
              "    }\n",
              "\n",
              "    .dataframe tbody tr th {\n",
              "        vertical-align: top;\n",
              "    }\n",
              "\n",
              "    .dataframe thead th {\n",
              "        text-align: right;\n",
              "    }\n",
              "</style>\n",
              "<table border=\"1\" class=\"dataframe\">\n",
              "  <thead>\n",
              "    <tr style=\"text-align: right;\">\n",
              "      <th></th>\n",
              "    </tr>\n",
              "    <tr>\n",
              "      <th>Idades</th>\n",
              "    </tr>\n",
              "  </thead>\n",
              "  <tbody>\n",
              "    <tr>\n",
              "      <th>55</th>\n",
              "    </tr>\n",
              "    <tr>\n",
              "      <th>45</th>\n",
              "    </tr>\n",
              "    <tr>\n",
              "      <th>74</th>\n",
              "    </tr>\n",
              "    <tr>\n",
              "      <th>18</th>\n",
              "    </tr>\n",
              "    <tr>\n",
              "      <th>21</th>\n",
              "    </tr>\n",
              "  </tbody>\n",
              "</table>\n",
              "</div>"
            ],
            "text/plain": [
              "Empty DataFrame\n",
              "Columns: []\n",
              "Index: [55, 45, 74, 18, 21]"
            ]
          },
          "metadata": {
            "tags": []
          },
          "execution_count": 62
        }
      ]
    },
    {
      "cell_type": "code",
      "metadata": {
        "id": "LtqVKMZymJJw",
        "colab_type": "code",
        "colab": {
          "base_uri": "https://localhost:8080/",
          "height": 106
        },
        "outputId": "97cab5fa-574f-44a8-ceb5-aa23990865b1"
      },
      "source": [
        "#idadescsv4 = pd.read_csv(\"https://raw.githubusercontent.com/josiemerson/learning_python/master/idades.csv\", index_col = 1, squeeze= True)\n",
        "idadescsv4 = pd.read_csv(\"https://raw.githubusercontent.com/josiemerson/learning_python/master/Teste.csv\", sep=';')\n",
        "idadescsv4.head() # retorna erro list index out of range Pois não existe o index_col = 1"
      ],
      "execution_count": 93,
      "outputs": [
        {
          "output_type": "execute_result",
          "data": {
            "text/html": [
              "<div>\n",
              "<style scoped>\n",
              "    .dataframe tbody tr th:only-of-type {\n",
              "        vertical-align: middle;\n",
              "    }\n",
              "\n",
              "    .dataframe tbody tr th {\n",
              "        vertical-align: top;\n",
              "    }\n",
              "\n",
              "    .dataframe thead th {\n",
              "        text-align: right;\n",
              "    }\n",
              "</style>\n",
              "<table border=\"1\" class=\"dataframe\">\n",
              "  <thead>\n",
              "    <tr style=\"text-align: right;\">\n",
              "      <th></th>\n",
              "      <th>nome</th>\n",
              "      <th>sobrenome</th>\n",
              "      <th>idade</th>\n",
              "    </tr>\n",
              "  </thead>\n",
              "  <tbody>\n",
              "    <tr>\n",
              "      <th>0</th>\n",
              "      <td>josiemerson</td>\n",
              "      <td>souza lacerda</td>\n",
              "      <td>28</td>\n",
              "    </tr>\n",
              "    <tr>\n",
              "      <th>1</th>\n",
              "      <td>gabriela</td>\n",
              "      <td>cristina ferreira martins</td>\n",
              "      <td>26</td>\n",
              "    </tr>\n",
              "  </tbody>\n",
              "</table>\n",
              "</div>"
            ],
            "text/plain": [
              "          nome                  sobrenome  idade\n",
              "0  josiemerson              souza lacerda     28\n",
              "1     gabriela  cristina ferreira martins     26"
            ]
          },
          "metadata": {
            "tags": []
          },
          "execution_count": 93
        }
      ]
    },
    {
      "cell_type": "markdown",
      "metadata": {
        "id": "07wN7erXmmnr",
        "colab_type": "text"
      },
      "source": [
        "--------**Criando Series a partir de planilhas do Excel**---------------------"
      ]
    },
    {
      "cell_type": "code",
      "metadata": {
        "id": "KCgo7pTXmcNf",
        "colab_type": "code",
        "colab": {
          "base_uri": "https://localhost:8080/",
          "height": 118
        },
        "outputId": "243efafd-3e3e-4c9b-cd51-c98deec10445"
      },
      "source": [
        "## OBs: Não esqueça se o arquivo tiver 1 dimensão e você não passar squeeze = True o type do objeto será DataFrame\n",
        "## caso passe o squeeze = true então o type do object será Series.\n",
        "idadexls = pd.read_excel(\"https://raw.githubusercontent.com/josiemerson/learning_python/master/idades2.xlsx\", squeeze= True)\n",
        "##type(idadexls) ## Retorna pandas.core.series.Series\n",
        "idadexls.head()"
      ],
      "execution_count": 72,
      "outputs": [
        {
          "output_type": "execute_result",
          "data": {
            "text/plain": [
              "0    55\n",
              "1    45\n",
              "2    74\n",
              "3    18\n",
              "4    21\n",
              "Name: Idades, dtype: int64"
            ]
          },
          "metadata": {
            "tags": []
          },
          "execution_count": 72
        }
      ]
    },
    {
      "cell_type": "code",
      "metadata": {
        "id": "lGJzeQwHneMJ",
        "colab_type": "code",
        "colab": {
          "base_uri": "https://localhost:8080/",
          "height": 195
        },
        "outputId": "1d69e38e-6145-4e77-e613-c93a4ac34c13"
      },
      "source": [
        "idadexls2 = pd.read_excel(\"https://raw.githubusercontent.com/josiemerson/learning_python/master/idades2.xlsx\", sheet_name='Planilha2')\n",
        "idadexls2.head()"
      ],
      "execution_count": 75,
      "outputs": [
        {
          "output_type": "execute_result",
          "data": {
            "text/html": [
              "<div>\n",
              "<style scoped>\n",
              "    .dataframe tbody tr th:only-of-type {\n",
              "        vertical-align: middle;\n",
              "    }\n",
              "\n",
              "    .dataframe tbody tr th {\n",
              "        vertical-align: top;\n",
              "    }\n",
              "\n",
              "    .dataframe thead th {\n",
              "        text-align: right;\n",
              "    }\n",
              "</style>\n",
              "<table border=\"1\" class=\"dataframe\">\n",
              "  <thead>\n",
              "    <tr style=\"text-align: right;\">\n",
              "      <th></th>\n",
              "      <th>Nome</th>\n",
              "      <th>Idade</th>\n",
              "    </tr>\n",
              "  </thead>\n",
              "  <tbody>\n",
              "    <tr>\n",
              "      <th>0</th>\n",
              "      <td>Agatha</td>\n",
              "      <td>24</td>\n",
              "    </tr>\n",
              "    <tr>\n",
              "      <th>1</th>\n",
              "      <td>Alice</td>\n",
              "      <td>27</td>\n",
              "    </tr>\n",
              "    <tr>\n",
              "      <th>2</th>\n",
              "      <td>Alícia</td>\n",
              "      <td>18</td>\n",
              "    </tr>\n",
              "    <tr>\n",
              "      <th>3</th>\n",
              "      <td>Amanda</td>\n",
              "      <td>18</td>\n",
              "    </tr>\n",
              "    <tr>\n",
              "      <th>4</th>\n",
              "      <td>Ana Beatriz</td>\n",
              "      <td>44</td>\n",
              "    </tr>\n",
              "  </tbody>\n",
              "</table>\n",
              "</div>"
            ],
            "text/plain": [
              "          Nome  Idade\n",
              "0       Agatha     24\n",
              "1        Alice     27\n",
              "2       Alícia     18\n",
              "3       Amanda     18\n",
              "4  Ana Beatriz     44"
            ]
          },
          "metadata": {
            "tags": []
          },
          "execution_count": 75
        }
      ]
    },
    {
      "cell_type": "code",
      "metadata": {
        "id": "IF3IjYu3oE2z",
        "colab_type": "code",
        "colab": {
          "base_uri": "https://localhost:8080/",
          "height": 34
        },
        "outputId": "cae503da-b416-48ab-ab58-326cce260a3e"
      },
      "source": [
        "type(idadexls2) ##Type pandas.core.frame.DataFrame"
      ],
      "execution_count": 76,
      "outputs": [
        {
          "output_type": "execute_result",
          "data": {
            "text/plain": [
              "pandas.core.frame.DataFrame"
            ]
          },
          "metadata": {
            "tags": []
          },
          "execution_count": 76
        }
      ]
    },
    {
      "cell_type": "code",
      "metadata": {
        "id": "7LWjNgHRoGB2",
        "colab_type": "code",
        "colab": {
          "base_uri": "https://localhost:8080/",
          "height": 134
        },
        "outputId": "482a53ca-80ab-4886-e522-dd85a76378d5"
      },
      "source": [
        "## OBs: Não esqueça se o arquivo tiver 1 dimensão e você não passar squeeze = True o type do objeto será DataFrame\n",
        "## caso passe o squeeze = true então o type do object será Series.\n",
        "## Mas no caso igual ao abaixo, em que é definido qual coluna será o index e passando o parâmetro squeeze = True \n",
        "## O type do objeto gerado será Series.\n",
        "idadexls3 = pd.read_excel(\"https://raw.githubusercontent.com/josiemerson/learning_python/master/idades2.xlsx\", sheet_name='Planilha2', index_col= 0, squeeze= True)\n",
        "idadexls3.head()\n",
        "#type(idadexls3)"
      ],
      "execution_count": 80,
      "outputs": [
        {
          "output_type": "execute_result",
          "data": {
            "text/plain": [
              "Nome\n",
              "Agatha         24\n",
              "Alice          27\n",
              "Alícia         18\n",
              "Amanda         18\n",
              "Ana Beatriz    44\n",
              "Name: Idade, dtype: int64"
            ]
          },
          "metadata": {
            "tags": []
          },
          "execution_count": 80
        }
      ]
    },
    {
      "cell_type": "markdown",
      "metadata": {
        "id": "VKlQMCAfpBnU",
        "colab_type": "text"
      },
      "source": [
        "**Atributos do Objeto Series**\n",
        "![image.png](data:image/png;base64,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)"
      ]
    },
    {
      "cell_type": "code",
      "metadata": {
        "id": "bn3jqLd8mkYB",
        "colab_type": "code",
        "colab": {
          "base_uri": "https://localhost:8080/",
          "height": 34
        },
        "outputId": "1376e940-8a9b-4c8b-e2ec-8079e397ff68"
      },
      "source": [
        "cardapio.dtype"
      ],
      "execution_count": 81,
      "outputs": [
        {
          "output_type": "execute_result",
          "data": {
            "text/plain": [
              "dtype('float64')"
            ]
          },
          "metadata": {
            "tags": []
          },
          "execution_count": 81
        }
      ]
    },
    {
      "cell_type": "code",
      "metadata": {
        "id": "TKW12J8upcJJ",
        "colab_type": "code",
        "colab": {
          "base_uri": "https://localhost:8080/",
          "height": 67
        },
        "outputId": "8cbb21c1-1320-4101-f28f-30a1ed7a9013"
      },
      "source": [
        "cardapio.index"
      ],
      "execution_count": 82,
      "outputs": [
        {
          "output_type": "execute_result",
          "data": {
            "text/plain": [
              "Index(['X-tudo', 'X-Bacon', 'Bauru', 'Misto-quente', 'Pão-de-queijo',\n",
              "       'Coxinha', 'Pastel'],\n",
              "      dtype='object')"
            ]
          },
          "metadata": {
            "tags": []
          },
          "execution_count": 82
        }
      ]
    },
    {
      "cell_type": "code",
      "metadata": {
        "id": "7Bow257Fpe3N",
        "colab_type": "code",
        "colab": {
          "base_uri": "https://localhost:8080/",
          "height": 34
        },
        "outputId": "e20d4a64-ff8b-4a69-c911-976524edd9a4"
      },
      "source": [
        "s.index"
      ],
      "execution_count": 83,
      "outputs": [
        {
          "output_type": "execute_result",
          "data": {
            "text/plain": [
              "RangeIndex(start=0, stop=6, step=1)"
            ]
          },
          "metadata": {
            "tags": []
          },
          "execution_count": 83
        }
      ]
    },
    {
      "cell_type": "code",
      "metadata": {
        "id": "yZrQ5bSMpg9L",
        "colab_type": "code",
        "colab": {}
      },
      "source": [
        "cardapio.name = \"Cardápio\""
      ],
      "execution_count": 85,
      "outputs": []
    },
    {
      "cell_type": "code",
      "metadata": {
        "id": "7IhX0t59pkXr",
        "colab_type": "code",
        "colab": {
          "base_uri": "https://localhost:8080/",
          "height": 35
        },
        "outputId": "27dc4f34-8acc-42ae-95ab-32c4e363d374"
      },
      "source": [
        "cardapio.name"
      ],
      "execution_count": 86,
      "outputs": [
        {
          "output_type": "execute_result",
          "data": {
            "application/vnd.google.colaboratory.intrinsic+json": {
              "type": "string"
            },
            "text/plain": [
              "'Cardápio'"
            ]
          },
          "metadata": {
            "tags": []
          },
          "execution_count": 86
        }
      ]
    },
    {
      "cell_type": "code",
      "metadata": {
        "id": "2WcLDQGzpqSG",
        "colab_type": "code",
        "colab": {
          "base_uri": "https://localhost:8080/",
          "height": 34
        },
        "outputId": "4c4c5e18-6b5e-45d0-ca60-f62581187b91"
      },
      "source": [
        "cardapio.nbytes"
      ],
      "execution_count": 87,
      "outputs": [
        {
          "output_type": "execute_result",
          "data": {
            "text/plain": [
              "56"
            ]
          },
          "metadata": {
            "tags": []
          },
          "execution_count": 87
        }
      ]
    },
    {
      "cell_type": "code",
      "metadata": {
        "id": "wOwUadYqpsnv",
        "colab_type": "code",
        "colab": {
          "base_uri": "https://localhost:8080/",
          "height": 34
        },
        "outputId": "6d359598-5758-44df-9fe5-2c41eb0cc42b"
      },
      "source": [
        "cardapio.ndim"
      ],
      "execution_count": 88,
      "outputs": [
        {
          "output_type": "execute_result",
          "data": {
            "text/plain": [
              "1"
            ]
          },
          "metadata": {
            "tags": []
          },
          "execution_count": 88
        }
      ]
    },
    {
      "cell_type": "code",
      "metadata": {
        "id": "HuikVEhYpvRs",
        "colab_type": "code",
        "colab": {
          "base_uri": "https://localhost:8080/",
          "height": 34
        },
        "outputId": "4c212c7e-fc28-4772-88aa-152896d68515"
      },
      "source": [
        "cardapio.shape"
      ],
      "execution_count": 89,
      "outputs": [
        {
          "output_type": "execute_result",
          "data": {
            "text/plain": [
              "(7,)"
            ]
          },
          "metadata": {
            "tags": []
          },
          "execution_count": 89
        }
      ]
    },
    {
      "cell_type": "code",
      "metadata": {
        "id": "u33350TYp3Vq",
        "colab_type": "code",
        "colab": {
          "base_uri": "https://localhost:8080/",
          "height": 34
        },
        "outputId": "629ee7b3-8933-4833-8648-d008e814585f"
      },
      "source": [
        "cardapio.size"
      ],
      "execution_count": 90,
      "outputs": [
        {
          "output_type": "execute_result",
          "data": {
            "text/plain": [
              "7"
            ]
          },
          "metadata": {
            "tags": []
          },
          "execution_count": 90
        }
      ]
    },
    {
      "cell_type": "code",
      "metadata": {
        "id": "w2nvv03_p5bH",
        "colab_type": "code",
        "colab": {
          "base_uri": "https://localhost:8080/",
          "height": 34
        },
        "outputId": "486fc9f5-f7a9-4e31-a191-2c20aa4c87b2"
      },
      "source": [
        "cardapio.values"
      ],
      "execution_count": 91,
      "outputs": [
        {
          "output_type": "execute_result",
          "data": {
            "text/plain": [
              "array([25.  , 22.  , 18.5 ,  4.75,  3.  ,  4.5 ,  2.3 ])"
            ]
          },
          "metadata": {
            "tags": []
          },
          "execution_count": 91
        }
      ]
    },
    {
      "cell_type": "code",
      "metadata": {
        "id": "vL_kbanhp73D",
        "colab_type": "code",
        "colab": {
          "base_uri": "https://localhost:8080/",
          "height": 151
        },
        "outputId": "6dac9311-b8e6-4c97-df04-367378df5b92"
      },
      "source": [
        "cardapio.value_counts"
      ],
      "execution_count": 92,
      "outputs": [
        {
          "output_type": "execute_result",
          "data": {
            "text/plain": [
              "<bound method IndexOpsMixin.value_counts of X-tudo           25.00\n",
              "X-Bacon          22.00\n",
              "Bauru            18.50\n",
              "Misto-quente      4.75\n",
              "Pão-de-queijo     3.00\n",
              "Coxinha           4.50\n",
              "Pastel            2.30\n",
              "Name: Cardápio, dtype: float64>"
            ]
          },
          "metadata": {
            "tags": []
          },
          "execution_count": 92
        }
      ]
    },
    {
      "cell_type": "markdown",
      "metadata": {
        "id": "0JjyBwWbqdOS",
        "colab_type": "text"
      },
      "source": [
        "**Métodos do Objeto Series: indexação e iteração**\n"
      ]
    }
  ]
}