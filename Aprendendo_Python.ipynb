{
  "nbformat": 4,
  "nbformat_minor": 0,
  "metadata": {
    "colab": {
      "name": "Aprendendo Python",
      "provenance": [],
      "authorship_tag": "ABX9TyPJ1Lb8pNUcMLIF9/G0jcU7",
      "include_colab_link": true
    },
    "kernelspec": {
      "name": "python3",
      "display_name": "Python 3"
    }
  },
  "cells": [
    {
      "cell_type": "markdown",
      "metadata": {
        "id": "view-in-github",
        "colab_type": "text"
      },
      "source": [
        "<a href=\"https://colab.research.google.com/github/josiemerson/learning_python/blob/master/Aprendendo_Python.ipynb\" target=\"_parent\"><img src=\"https://colab.research.google.com/assets/colab-badge.svg\" alt=\"Open In Colab\"/></a>"
      ]
    },
    {
      "cell_type": "code",
      "metadata": {
        "id": "xR7_K0qYtulw",
        "colab_type": "code",
        "colab": {}
      },
      "source": [
        "import pandas as pd\n",
        "import numpy as np\n",
        "\n",
        "from fbprophet import Prophet"
      ],
      "execution_count": null,
      "outputs": []
    },
    {
      "cell_type": "code",
      "metadata": {
        "id": "ySehQVyIvbpY",
        "colab_type": "code",
        "colab": {
          "base_uri": "https://localhost:8080/",
          "height": 34
        },
        "outputId": "fa4a6b15-cfee-4f05-cab3-74e489e8b064"
      },
      "source": [
        "import numpy as np\n",
        "dataset = np.array(['paul', 'jacob', 'vince', 'paul', 'miky', 'larence', 'warren'])\n",
        "print(dataset == 'paul')"
      ],
      "execution_count": null,
      "outputs": [
        {
          "output_type": "stream",
          "text": [
            "[ True False False  True False False False]\n"
          ],
          "name": "stdout"
        }
      ]
    },
    {
      "cell_type": "code",
      "metadata": {
        "id": "GP6lhw5nwJ6f",
        "colab_type": "code",
        "colab": {
          "base_uri": "https://localhost:8080/",
          "height": 101
        },
        "outputId": "a2c748f4-73f0-47e3-f3c1-df27196d0480"
      },
      "source": [
        "arr = np.eye(5)\n",
        "arr[arr != 1] = -1\n",
        "arr"
      ],
      "execution_count": null,
      "outputs": [
        {
          "output_type": "execute_result",
          "data": {
            "text/plain": [
              "array([[ 1., -1., -1., -1., -1.],\n",
              "       [-1.,  1., -1., -1., -1.],\n",
              "       [-1., -1.,  1., -1., -1.],\n",
              "       [-1., -1., -1.,  1., -1.],\n",
              "       [-1., -1., -1., -1.,  1.]])"
            ]
          },
          "metadata": {
            "tags": []
          },
          "execution_count": 21
        }
      ]
    },
    {
      "cell_type": "code",
      "metadata": {
        "id": "tIr44ahkOPPN",
        "colab_type": "code",
        "colab": {}
      },
      "source": [
        ""
      ],
      "execution_count": null,
      "outputs": []
    },
    {
      "cell_type": "code",
      "metadata": {
        "id": "0mMgi_koBAeG",
        "colab_type": "code",
        "colab": {}
      },
      "source": [
        "covid = pd.read_csv('https://raw.githubusercontent.com/sandeco/CanalSandeco/master/covid-19/covid_19_data.csv')\n"
      ],
      "execution_count": null,
      "outputs": []
    },
    {
      "cell_type": "code",
      "metadata": {
        "id": "uKmLi5kDB44o",
        "colab_type": "code",
        "colab": {}
      },
      "source": [
        "covid.tail()\n",
        "covid  = covid.rename(columns={'ObservationDate' : 'Data', 'Country/Region' : 'Pais', 'Province/State': 'Estado', 'Last Update' : 'Ultima atualização' , 'Confirmed': 'Confirmado', 'Deaths' : 'Mortes', 'Recovered':'Recuperados'\t})\n",
        "covid.tail()\n",
        "mortes = covid.groupby('Data').sum()['Mortes'].reset_index()"
      ],
      "execution_count": null,
      "outputs": []
    },
    {
      "cell_type": "code",
      "metadata": {
        "id": "XmtU_WKjJG-G",
        "colab_type": "code",
        "colab": {
          "base_uri": "https://localhost:8080/",
          "height": 204
        },
        "outputId": "d3b534b8-ccea-48bb-cc56-bb02cb8ea7f9"
      },
      "source": [
        "mortes.columns = ['ds', 'y']\n",
        "mortes.tail()\n"
      ],
      "execution_count": null,
      "outputs": [
        {
          "output_type": "execute_result",
          "data": {
            "text/html": [
              "<div>\n",
              "<style scoped>\n",
              "    .dataframe tbody tr th:only-of-type {\n",
              "        vertical-align: middle;\n",
              "    }\n",
              "\n",
              "    .dataframe tbody tr th {\n",
              "        vertical-align: top;\n",
              "    }\n",
              "\n",
              "    .dataframe thead th {\n",
              "        text-align: right;\n",
              "    }\n",
              "</style>\n",
              "<table border=\"1\" class=\"dataframe\">\n",
              "  <thead>\n",
              "    <tr style=\"text-align: right;\">\n",
              "      <th></th>\n",
              "      <th>ds</th>\n",
              "      <th>y</th>\n",
              "    </tr>\n",
              "  </thead>\n",
              "  <tbody>\n",
              "    <tr>\n",
              "      <th>58</th>\n",
              "      <td>03/20/2020</td>\n",
              "      <td>11299.0</td>\n",
              "    </tr>\n",
              "    <tr>\n",
              "      <th>59</th>\n",
              "      <td>03/21/2020</td>\n",
              "      <td>12973.0</td>\n",
              "    </tr>\n",
              "    <tr>\n",
              "      <th>60</th>\n",
              "      <td>03/22/2020</td>\n",
              "      <td>14623.0</td>\n",
              "    </tr>\n",
              "    <tr>\n",
              "      <th>61</th>\n",
              "      <td>03/23/2020</td>\n",
              "      <td>16497.0</td>\n",
              "    </tr>\n",
              "    <tr>\n",
              "      <th>62</th>\n",
              "      <td>03/24/2020</td>\n",
              "      <td>18615.0</td>\n",
              "    </tr>\n",
              "  </tbody>\n",
              "</table>\n",
              "</div>"
            ],
            "text/plain": [
              "            ds        y\n",
              "58  03/20/2020  11299.0\n",
              "59  03/21/2020  12973.0\n",
              "60  03/22/2020  14623.0\n",
              "61  03/23/2020  16497.0\n",
              "62  03/24/2020  18615.0"
            ]
          },
          "metadata": {
            "tags": []
          },
          "execution_count": 112
        }
      ]
    },
    {
      "cell_type": "code",
      "metadata": {
        "id": "PkHdjZRPJrZF",
        "colab_type": "code",
        "colab": {
          "base_uri": "https://localhost:8080/",
          "height": 204
        },
        "outputId": "024e200b-d299-48eb-f515-d17813fd1147"
      },
      "source": [
        "mortes['ds'] = pd.to_datetime(mortes['ds'])\n",
        "mortes.tail()"
      ],
      "execution_count": null,
      "outputs": [
        {
          "output_type": "execute_result",
          "data": {
            "text/html": [
              "<div>\n",
              "<style scoped>\n",
              "    .dataframe tbody tr th:only-of-type {\n",
              "        vertical-align: middle;\n",
              "    }\n",
              "\n",
              "    .dataframe tbody tr th {\n",
              "        vertical-align: top;\n",
              "    }\n",
              "\n",
              "    .dataframe thead th {\n",
              "        text-align: right;\n",
              "    }\n",
              "</style>\n",
              "<table border=\"1\" class=\"dataframe\">\n",
              "  <thead>\n",
              "    <tr style=\"text-align: right;\">\n",
              "      <th></th>\n",
              "      <th>ds</th>\n",
              "      <th>y</th>\n",
              "    </tr>\n",
              "  </thead>\n",
              "  <tbody>\n",
              "    <tr>\n",
              "      <th>58</th>\n",
              "      <td>2020-03-20</td>\n",
              "      <td>11299.0</td>\n",
              "    </tr>\n",
              "    <tr>\n",
              "      <th>59</th>\n",
              "      <td>2020-03-21</td>\n",
              "      <td>12973.0</td>\n",
              "    </tr>\n",
              "    <tr>\n",
              "      <th>60</th>\n",
              "      <td>2020-03-22</td>\n",
              "      <td>14623.0</td>\n",
              "    </tr>\n",
              "    <tr>\n",
              "      <th>61</th>\n",
              "      <td>2020-03-23</td>\n",
              "      <td>16497.0</td>\n",
              "    </tr>\n",
              "    <tr>\n",
              "      <th>62</th>\n",
              "      <td>2020-03-24</td>\n",
              "      <td>18615.0</td>\n",
              "    </tr>\n",
              "  </tbody>\n",
              "</table>\n",
              "</div>"
            ],
            "text/plain": [
              "           ds        y\n",
              "58 2020-03-20  11299.0\n",
              "59 2020-03-21  12973.0\n",
              "60 2020-03-22  14623.0\n",
              "61 2020-03-23  16497.0\n",
              "62 2020-03-24  18615.0"
            ]
          },
          "metadata": {
            "tags": []
          },
          "execution_count": 113
        }
      ]
    },
    {
      "cell_type": "code",
      "metadata": {
        "id": "19UShbpBOvbk",
        "colab_type": "code",
        "colab": {}
      },
      "source": [
        "dias = 30"
      ],
      "execution_count": null,
      "outputs": []
    },
    {
      "cell_type": "code",
      "metadata": {
        "id": "vxGndFPPKswn",
        "colab_type": "code",
        "colab": {
          "base_uri": "https://localhost:8080/",
          "height": 51
        },
        "outputId": "767eda11-2af3-46bb-b03d-7c354bea1c41"
      },
      "source": [
        "m = Prophet(interval_width=0.95)\n",
        "m.fit(mortes)\n",
        "futuro = m.make_future_dataframe(periods=dias)"
      ],
      "execution_count": null,
      "outputs": [
        {
          "output_type": "stream",
          "text": [
            "INFO:fbprophet:Disabling yearly seasonality. Run prophet with yearly_seasonality=True to override this.\n",
            "INFO:fbprophet:Disabling daily seasonality. Run prophet with daily_seasonality=True to override this.\n"
          ],
          "name": "stderr"
        }
      ]
    },
    {
      "cell_type": "code",
      "metadata": {
        "id": "w15XyOxcLk04",
        "colab_type": "code",
        "colab": {
          "base_uri": "https://localhost:8080/",
          "height": 979
        },
        "outputId": "38a5485a-edfb-4789-fbab-11726d977c2d"
      },
      "source": [
        "futuro.tail(dias)"
      ],
      "execution_count": null,
      "outputs": [
        {
          "output_type": "execute_result",
          "data": {
            "text/html": [
              "<div>\n",
              "<style scoped>\n",
              "    .dataframe tbody tr th:only-of-type {\n",
              "        vertical-align: middle;\n",
              "    }\n",
              "\n",
              "    .dataframe tbody tr th {\n",
              "        vertical-align: top;\n",
              "    }\n",
              "\n",
              "    .dataframe thead th {\n",
              "        text-align: right;\n",
              "    }\n",
              "</style>\n",
              "<table border=\"1\" class=\"dataframe\">\n",
              "  <thead>\n",
              "    <tr style=\"text-align: right;\">\n",
              "      <th></th>\n",
              "      <th>ds</th>\n",
              "    </tr>\n",
              "  </thead>\n",
              "  <tbody>\n",
              "    <tr>\n",
              "      <th>63</th>\n",
              "      <td>2020-03-25</td>\n",
              "    </tr>\n",
              "    <tr>\n",
              "      <th>64</th>\n",
              "      <td>2020-03-26</td>\n",
              "    </tr>\n",
              "    <tr>\n",
              "      <th>65</th>\n",
              "      <td>2020-03-27</td>\n",
              "    </tr>\n",
              "    <tr>\n",
              "      <th>66</th>\n",
              "      <td>2020-03-28</td>\n",
              "    </tr>\n",
              "    <tr>\n",
              "      <th>67</th>\n",
              "      <td>2020-03-29</td>\n",
              "    </tr>\n",
              "    <tr>\n",
              "      <th>68</th>\n",
              "      <td>2020-03-30</td>\n",
              "    </tr>\n",
              "    <tr>\n",
              "      <th>69</th>\n",
              "      <td>2020-03-31</td>\n",
              "    </tr>\n",
              "    <tr>\n",
              "      <th>70</th>\n",
              "      <td>2020-04-01</td>\n",
              "    </tr>\n",
              "    <tr>\n",
              "      <th>71</th>\n",
              "      <td>2020-04-02</td>\n",
              "    </tr>\n",
              "    <tr>\n",
              "      <th>72</th>\n",
              "      <td>2020-04-03</td>\n",
              "    </tr>\n",
              "    <tr>\n",
              "      <th>73</th>\n",
              "      <td>2020-04-04</td>\n",
              "    </tr>\n",
              "    <tr>\n",
              "      <th>74</th>\n",
              "      <td>2020-04-05</td>\n",
              "    </tr>\n",
              "    <tr>\n",
              "      <th>75</th>\n",
              "      <td>2020-04-06</td>\n",
              "    </tr>\n",
              "    <tr>\n",
              "      <th>76</th>\n",
              "      <td>2020-04-07</td>\n",
              "    </tr>\n",
              "    <tr>\n",
              "      <th>77</th>\n",
              "      <td>2020-04-08</td>\n",
              "    </tr>\n",
              "    <tr>\n",
              "      <th>78</th>\n",
              "      <td>2020-04-09</td>\n",
              "    </tr>\n",
              "    <tr>\n",
              "      <th>79</th>\n",
              "      <td>2020-04-10</td>\n",
              "    </tr>\n",
              "    <tr>\n",
              "      <th>80</th>\n",
              "      <td>2020-04-11</td>\n",
              "    </tr>\n",
              "    <tr>\n",
              "      <th>81</th>\n",
              "      <td>2020-04-12</td>\n",
              "    </tr>\n",
              "    <tr>\n",
              "      <th>82</th>\n",
              "      <td>2020-04-13</td>\n",
              "    </tr>\n",
              "    <tr>\n",
              "      <th>83</th>\n",
              "      <td>2020-04-14</td>\n",
              "    </tr>\n",
              "    <tr>\n",
              "      <th>84</th>\n",
              "      <td>2020-04-15</td>\n",
              "    </tr>\n",
              "    <tr>\n",
              "      <th>85</th>\n",
              "      <td>2020-04-16</td>\n",
              "    </tr>\n",
              "    <tr>\n",
              "      <th>86</th>\n",
              "      <td>2020-04-17</td>\n",
              "    </tr>\n",
              "    <tr>\n",
              "      <th>87</th>\n",
              "      <td>2020-04-18</td>\n",
              "    </tr>\n",
              "    <tr>\n",
              "      <th>88</th>\n",
              "      <td>2020-04-19</td>\n",
              "    </tr>\n",
              "    <tr>\n",
              "      <th>89</th>\n",
              "      <td>2020-04-20</td>\n",
              "    </tr>\n",
              "    <tr>\n",
              "      <th>90</th>\n",
              "      <td>2020-04-21</td>\n",
              "    </tr>\n",
              "    <tr>\n",
              "      <th>91</th>\n",
              "      <td>2020-04-22</td>\n",
              "    </tr>\n",
              "    <tr>\n",
              "      <th>92</th>\n",
              "      <td>2020-04-23</td>\n",
              "    </tr>\n",
              "  </tbody>\n",
              "</table>\n",
              "</div>"
            ],
            "text/plain": [
              "           ds\n",
              "63 2020-03-25\n",
              "64 2020-03-26\n",
              "65 2020-03-27\n",
              "66 2020-03-28\n",
              "67 2020-03-29\n",
              "68 2020-03-30\n",
              "69 2020-03-31\n",
              "70 2020-04-01\n",
              "71 2020-04-02\n",
              "72 2020-04-03\n",
              "73 2020-04-04\n",
              "74 2020-04-05\n",
              "75 2020-04-06\n",
              "76 2020-04-07\n",
              "77 2020-04-08\n",
              "78 2020-04-09\n",
              "79 2020-04-10\n",
              "80 2020-04-11\n",
              "81 2020-04-12\n",
              "82 2020-04-13\n",
              "83 2020-04-14\n",
              "84 2020-04-15\n",
              "85 2020-04-16\n",
              "86 2020-04-17\n",
              "87 2020-04-18\n",
              "88 2020-04-19\n",
              "89 2020-04-20\n",
              "90 2020-04-21\n",
              "91 2020-04-22\n",
              "92 2020-04-23"
            ]
          },
          "metadata": {
            "tags": []
          },
          "execution_count": 116
        }
      ]
    },
    {
      "cell_type": "code",
      "metadata": {
        "id": "ujCIgqoyME-t",
        "colab_type": "code",
        "colab": {
          "base_uri": "https://localhost:8080/",
          "height": 419
        },
        "outputId": "7fe4c223-35cb-4b7f-9d0c-735c492dd382"
      },
      "source": [
        "previsao = m.predict(futuro)\n",
        "previsao"
      ],
      "execution_count": null,
      "outputs": [
        {
          "output_type": "execute_result",
          "data": {
            "text/html": [
              "<div>\n",
              "<style scoped>\n",
              "    .dataframe tbody tr th:only-of-type {\n",
              "        vertical-align: middle;\n",
              "    }\n",
              "\n",
              "    .dataframe tbody tr th {\n",
              "        vertical-align: top;\n",
              "    }\n",
              "\n",
              "    .dataframe thead th {\n",
              "        text-align: right;\n",
              "    }\n",
              "</style>\n",
              "<table border=\"1\" class=\"dataframe\">\n",
              "  <thead>\n",
              "    <tr style=\"text-align: right;\">\n",
              "      <th></th>\n",
              "      <th>ds</th>\n",
              "      <th>trend</th>\n",
              "      <th>yhat_lower</th>\n",
              "      <th>yhat_upper</th>\n",
              "      <th>trend_lower</th>\n",
              "      <th>trend_upper</th>\n",
              "      <th>additive_terms</th>\n",
              "      <th>additive_terms_lower</th>\n",
              "      <th>additive_terms_upper</th>\n",
              "      <th>weekly</th>\n",
              "      <th>weekly_lower</th>\n",
              "      <th>weekly_upper</th>\n",
              "      <th>multiplicative_terms</th>\n",
              "      <th>multiplicative_terms_lower</th>\n",
              "      <th>multiplicative_terms_upper</th>\n",
              "      <th>yhat</th>\n",
              "    </tr>\n",
              "  </thead>\n",
              "  <tbody>\n",
              "    <tr>\n",
              "      <th>0</th>\n",
              "      <td>2020-01-22</td>\n",
              "      <td>-471.486880</td>\n",
              "      <td>-1779.986288</td>\n",
              "      <td>701.390605</td>\n",
              "      <td>-471.486880</td>\n",
              "      <td>-471.486880</td>\n",
              "      <td>-55.129509</td>\n",
              "      <td>-55.129509</td>\n",
              "      <td>-55.129509</td>\n",
              "      <td>-55.129509</td>\n",
              "      <td>-55.129509</td>\n",
              "      <td>-55.129509</td>\n",
              "      <td>0.0</td>\n",
              "      <td>0.0</td>\n",
              "      <td>0.0</td>\n",
              "      <td>-526.616388</td>\n",
              "    </tr>\n",
              "    <tr>\n",
              "      <th>1</th>\n",
              "      <td>2020-01-23</td>\n",
              "      <td>-382.791789</td>\n",
              "      <td>-1685.488532</td>\n",
              "      <td>772.223004</td>\n",
              "      <td>-382.791789</td>\n",
              "      <td>-382.791789</td>\n",
              "      <td>-115.654700</td>\n",
              "      <td>-115.654700</td>\n",
              "      <td>-115.654700</td>\n",
              "      <td>-115.654700</td>\n",
              "      <td>-115.654700</td>\n",
              "      <td>-115.654700</td>\n",
              "      <td>0.0</td>\n",
              "      <td>0.0</td>\n",
              "      <td>0.0</td>\n",
              "      <td>-498.446489</td>\n",
              "    </tr>\n",
              "    <tr>\n",
              "      <th>2</th>\n",
              "      <td>2020-01-24</td>\n",
              "      <td>-294.096699</td>\n",
              "      <td>-1615.281489</td>\n",
              "      <td>788.738792</td>\n",
              "      <td>-294.096699</td>\n",
              "      <td>-294.096699</td>\n",
              "      <td>-96.980478</td>\n",
              "      <td>-96.980478</td>\n",
              "      <td>-96.980478</td>\n",
              "      <td>-96.980478</td>\n",
              "      <td>-96.980478</td>\n",
              "      <td>-96.980478</td>\n",
              "      <td>0.0</td>\n",
              "      <td>0.0</td>\n",
              "      <td>0.0</td>\n",
              "      <td>-391.077176</td>\n",
              "    </tr>\n",
              "    <tr>\n",
              "      <th>3</th>\n",
              "      <td>2020-01-25</td>\n",
              "      <td>-205.401608</td>\n",
              "      <td>-1468.017930</td>\n",
              "      <td>985.940009</td>\n",
              "      <td>-205.401608</td>\n",
              "      <td>-205.401608</td>\n",
              "      <td>-58.550199</td>\n",
              "      <td>-58.550199</td>\n",
              "      <td>-58.550199</td>\n",
              "      <td>-58.550199</td>\n",
              "      <td>-58.550199</td>\n",
              "      <td>-58.550199</td>\n",
              "      <td>0.0</td>\n",
              "      <td>0.0</td>\n",
              "      <td>0.0</td>\n",
              "      <td>-263.951807</td>\n",
              "    </tr>\n",
              "    <tr>\n",
              "      <th>4</th>\n",
              "      <td>2020-01-26</td>\n",
              "      <td>-116.706517</td>\n",
              "      <td>-1270.346447</td>\n",
              "      <td>1168.240502</td>\n",
              "      <td>-116.706517</td>\n",
              "      <td>-116.706517</td>\n",
              "      <td>-3.695994</td>\n",
              "      <td>-3.695994</td>\n",
              "      <td>-3.695994</td>\n",
              "      <td>-3.695994</td>\n",
              "      <td>-3.695994</td>\n",
              "      <td>-3.695994</td>\n",
              "      <td>0.0</td>\n",
              "      <td>0.0</td>\n",
              "      <td>0.0</td>\n",
              "      <td>-120.402510</td>\n",
              "    </tr>\n",
              "    <tr>\n",
              "      <th>...</th>\n",
              "      <td>...</td>\n",
              "      <td>...</td>\n",
              "      <td>...</td>\n",
              "      <td>...</td>\n",
              "      <td>...</td>\n",
              "      <td>...</td>\n",
              "      <td>...</td>\n",
              "      <td>...</td>\n",
              "      <td>...</td>\n",
              "      <td>...</td>\n",
              "      <td>...</td>\n",
              "      <td>...</td>\n",
              "      <td>...</td>\n",
              "      <td>...</td>\n",
              "      <td>...</td>\n",
              "      <td>...</td>\n",
              "    </tr>\n",
              "    <tr>\n",
              "      <th>88</th>\n",
              "      <td>2020-04-19</td>\n",
              "      <td>38704.604532</td>\n",
              "      <td>34227.416395</td>\n",
              "      <td>43019.750874</td>\n",
              "      <td>34614.105966</td>\n",
              "      <td>42984.423244</td>\n",
              "      <td>-3.695994</td>\n",
              "      <td>-3.695994</td>\n",
              "      <td>-3.695994</td>\n",
              "      <td>-3.695994</td>\n",
              "      <td>-3.695994</td>\n",
              "      <td>-3.695994</td>\n",
              "      <td>0.0</td>\n",
              "      <td>0.0</td>\n",
              "      <td>0.0</td>\n",
              "      <td>38700.908538</td>\n",
              "    </tr>\n",
              "    <tr>\n",
              "      <th>89</th>\n",
              "      <td>2020-04-20</td>\n",
              "      <td>39597.064963</td>\n",
              "      <td>34876.862600</td>\n",
              "      <td>44451.970191</td>\n",
              "      <td>35210.242692</td>\n",
              "      <td>44154.727103</td>\n",
              "      <td>94.922877</td>\n",
              "      <td>94.922877</td>\n",
              "      <td>94.922877</td>\n",
              "      <td>94.922877</td>\n",
              "      <td>94.922877</td>\n",
              "      <td>94.922877</td>\n",
              "      <td>0.0</td>\n",
              "      <td>0.0</td>\n",
              "      <td>0.0</td>\n",
              "      <td>39691.987840</td>\n",
              "    </tr>\n",
              "    <tr>\n",
              "      <th>90</th>\n",
              "      <td>2020-04-21</td>\n",
              "      <td>40489.525394</td>\n",
              "      <td>35758.104744</td>\n",
              "      <td>45762.883668</td>\n",
              "      <td>35829.860396</td>\n",
              "      <td>45421.705234</td>\n",
              "      <td>235.088001</td>\n",
              "      <td>235.088001</td>\n",
              "      <td>235.088001</td>\n",
              "      <td>235.088001</td>\n",
              "      <td>235.088001</td>\n",
              "      <td>235.088001</td>\n",
              "      <td>0.0</td>\n",
              "      <td>0.0</td>\n",
              "      <td>0.0</td>\n",
              "      <td>40724.613394</td>\n",
              "    </tr>\n",
              "    <tr>\n",
              "      <th>91</th>\n",
              "      <td>2020-04-22</td>\n",
              "      <td>41381.985825</td>\n",
              "      <td>36202.543944</td>\n",
              "      <td>46470.940074</td>\n",
              "      <td>36450.823534</td>\n",
              "      <td>46551.291722</td>\n",
              "      <td>-55.129509</td>\n",
              "      <td>-55.129509</td>\n",
              "      <td>-55.129509</td>\n",
              "      <td>-55.129509</td>\n",
              "      <td>-55.129509</td>\n",
              "      <td>-55.129509</td>\n",
              "      <td>0.0</td>\n",
              "      <td>0.0</td>\n",
              "      <td>0.0</td>\n",
              "      <td>41326.856316</td>\n",
              "    </tr>\n",
              "    <tr>\n",
              "      <th>92</th>\n",
              "      <td>2020-04-23</td>\n",
              "      <td>42274.446256</td>\n",
              "      <td>36835.212982</td>\n",
              "      <td>47697.239966</td>\n",
              "      <td>37047.061535</td>\n",
              "      <td>47656.661402</td>\n",
              "      <td>-115.654700</td>\n",
              "      <td>-115.654700</td>\n",
              "      <td>-115.654700</td>\n",
              "      <td>-115.654700</td>\n",
              "      <td>-115.654700</td>\n",
              "      <td>-115.654700</td>\n",
              "      <td>0.0</td>\n",
              "      <td>0.0</td>\n",
              "      <td>0.0</td>\n",
              "      <td>42158.791556</td>\n",
              "    </tr>\n",
              "  </tbody>\n",
              "</table>\n",
              "<p>93 rows × 16 columns</p>\n",
              "</div>"
            ],
            "text/plain": [
              "           ds         trend  ...  multiplicative_terms_upper          yhat\n",
              "0  2020-01-22   -471.486880  ...                         0.0   -526.616388\n",
              "1  2020-01-23   -382.791789  ...                         0.0   -498.446489\n",
              "2  2020-01-24   -294.096699  ...                         0.0   -391.077176\n",
              "3  2020-01-25   -205.401608  ...                         0.0   -263.951807\n",
              "4  2020-01-26   -116.706517  ...                         0.0   -120.402510\n",
              "..        ...           ...  ...                         ...           ...\n",
              "88 2020-04-19  38704.604532  ...                         0.0  38700.908538\n",
              "89 2020-04-20  39597.064963  ...                         0.0  39691.987840\n",
              "90 2020-04-21  40489.525394  ...                         0.0  40724.613394\n",
              "91 2020-04-22  41381.985825  ...                         0.0  41326.856316\n",
              "92 2020-04-23  42274.446256  ...                         0.0  42158.791556\n",
              "\n",
              "[93 rows x 16 columns]"
            ]
          },
          "metadata": {
            "tags": []
          },
          "execution_count": 117
        }
      ]
    },
    {
      "cell_type": "code",
      "metadata": {
        "id": "41_2KR2-NFT2",
        "colab_type": "code",
        "colab": {
          "base_uri": "https://localhost:8080/",
          "height": 979
        },
        "outputId": "4b3f4477-44b3-4aab-d669-99a42bcfb0de"
      },
      "source": [
        "previsao[['ds', 'yhat_lower', 'yhat', 'yhat_upper']].tail(dias)"
      ],
      "execution_count": null,
      "outputs": [
        {
          "output_type": "execute_result",
          "data": {
            "text/html": [
              "<div>\n",
              "<style scoped>\n",
              "    .dataframe tbody tr th:only-of-type {\n",
              "        vertical-align: middle;\n",
              "    }\n",
              "\n",
              "    .dataframe tbody tr th {\n",
              "        vertical-align: top;\n",
              "    }\n",
              "\n",
              "    .dataframe thead th {\n",
              "        text-align: right;\n",
              "    }\n",
              "</style>\n",
              "<table border=\"1\" class=\"dataframe\">\n",
              "  <thead>\n",
              "    <tr style=\"text-align: right;\">\n",
              "      <th></th>\n",
              "      <th>ds</th>\n",
              "      <th>yhat_lower</th>\n",
              "      <th>yhat</th>\n",
              "      <th>yhat_upper</th>\n",
              "    </tr>\n",
              "  </thead>\n",
              "  <tbody>\n",
              "    <tr>\n",
              "      <th>63</th>\n",
              "      <td>2020-03-25</td>\n",
              "      <td>15171.494954</td>\n",
              "      <td>16337.964249</td>\n",
              "      <td>17548.490765</td>\n",
              "    </tr>\n",
              "    <tr>\n",
              "      <th>64</th>\n",
              "      <td>2020-03-26</td>\n",
              "      <td>15973.972610</td>\n",
              "      <td>17169.899489</td>\n",
              "      <td>18345.575031</td>\n",
              "    </tr>\n",
              "    <tr>\n",
              "      <th>65</th>\n",
              "      <td>2020-03-27</td>\n",
              "      <td>16846.835302</td>\n",
              "      <td>18081.034142</td>\n",
              "      <td>19260.580036</td>\n",
              "    </tr>\n",
              "    <tr>\n",
              "      <th>66</th>\n",
              "      <td>2020-03-28</td>\n",
              "      <td>17750.645053</td>\n",
              "      <td>19011.924852</td>\n",
              "      <td>20203.455026</td>\n",
              "    </tr>\n",
              "    <tr>\n",
              "      <th>67</th>\n",
              "      <td>2020-03-29</td>\n",
              "      <td>18719.432821</td>\n",
              "      <td>19959.239488</td>\n",
              "      <td>21251.074377</td>\n",
              "    </tr>\n",
              "    <tr>\n",
              "      <th>68</th>\n",
              "      <td>2020-03-30</td>\n",
              "      <td>19667.189542</td>\n",
              "      <td>20950.318790</td>\n",
              "      <td>22211.604820</td>\n",
              "    </tr>\n",
              "    <tr>\n",
              "      <th>69</th>\n",
              "      <td>2020-03-31</td>\n",
              "      <td>20613.520353</td>\n",
              "      <td>21982.944345</td>\n",
              "      <td>23307.452830</td>\n",
              "    </tr>\n",
              "    <tr>\n",
              "      <th>70</th>\n",
              "      <td>2020-04-01</td>\n",
              "      <td>21233.933070</td>\n",
              "      <td>22585.187266</td>\n",
              "      <td>23989.874422</td>\n",
              "    </tr>\n",
              "    <tr>\n",
              "      <th>71</th>\n",
              "      <td>2020-04-02</td>\n",
              "      <td>21809.901420</td>\n",
              "      <td>23417.122506</td>\n",
              "      <td>24870.662846</td>\n",
              "    </tr>\n",
              "    <tr>\n",
              "      <th>72</th>\n",
              "      <td>2020-04-03</td>\n",
              "      <td>22743.214119</td>\n",
              "      <td>24328.257159</td>\n",
              "      <td>25840.592481</td>\n",
              "    </tr>\n",
              "    <tr>\n",
              "      <th>73</th>\n",
              "      <td>2020-04-04</td>\n",
              "      <td>23598.834175</td>\n",
              "      <td>25259.147869</td>\n",
              "      <td>27012.197357</td>\n",
              "    </tr>\n",
              "    <tr>\n",
              "      <th>74</th>\n",
              "      <td>2020-04-05</td>\n",
              "      <td>24472.539860</td>\n",
              "      <td>26206.462505</td>\n",
              "      <td>28110.310664</td>\n",
              "    </tr>\n",
              "    <tr>\n",
              "      <th>75</th>\n",
              "      <td>2020-04-06</td>\n",
              "      <td>25181.417670</td>\n",
              "      <td>27197.541807</td>\n",
              "      <td>29145.967353</td>\n",
              "    </tr>\n",
              "    <tr>\n",
              "      <th>76</th>\n",
              "      <td>2020-04-07</td>\n",
              "      <td>26113.325709</td>\n",
              "      <td>28230.167361</td>\n",
              "      <td>30500.659757</td>\n",
              "    </tr>\n",
              "    <tr>\n",
              "      <th>77</th>\n",
              "      <td>2020-04-08</td>\n",
              "      <td>26589.499839</td>\n",
              "      <td>28832.410283</td>\n",
              "      <td>31073.428770</td>\n",
              "    </tr>\n",
              "    <tr>\n",
              "      <th>78</th>\n",
              "      <td>2020-04-09</td>\n",
              "      <td>27384.120811</td>\n",
              "      <td>29664.345523</td>\n",
              "      <td>32026.400004</td>\n",
              "    </tr>\n",
              "    <tr>\n",
              "      <th>79</th>\n",
              "      <td>2020-04-10</td>\n",
              "      <td>27976.613810</td>\n",
              "      <td>30575.480176</td>\n",
              "      <td>33176.968076</td>\n",
              "    </tr>\n",
              "    <tr>\n",
              "      <th>80</th>\n",
              "      <td>2020-04-11</td>\n",
              "      <td>28652.649957</td>\n",
              "      <td>31506.370885</td>\n",
              "      <td>34481.651518</td>\n",
              "    </tr>\n",
              "    <tr>\n",
              "      <th>81</th>\n",
              "      <td>2020-04-12</td>\n",
              "      <td>29659.112395</td>\n",
              "      <td>32453.685522</td>\n",
              "      <td>35525.036675</td>\n",
              "    </tr>\n",
              "    <tr>\n",
              "      <th>82</th>\n",
              "      <td>2020-04-13</td>\n",
              "      <td>30430.899859</td>\n",
              "      <td>33444.764824</td>\n",
              "      <td>36576.396232</td>\n",
              "    </tr>\n",
              "    <tr>\n",
              "      <th>83</th>\n",
              "      <td>2020-04-14</td>\n",
              "      <td>31172.819820</td>\n",
              "      <td>34477.390378</td>\n",
              "      <td>37764.311211</td>\n",
              "    </tr>\n",
              "    <tr>\n",
              "      <th>84</th>\n",
              "      <td>2020-04-15</td>\n",
              "      <td>31643.063754</td>\n",
              "      <td>35079.633299</td>\n",
              "      <td>38799.789143</td>\n",
              "    </tr>\n",
              "    <tr>\n",
              "      <th>85</th>\n",
              "      <td>2020-04-16</td>\n",
              "      <td>32167.156956</td>\n",
              "      <td>35911.568539</td>\n",
              "      <td>39796.797035</td>\n",
              "    </tr>\n",
              "    <tr>\n",
              "      <th>86</th>\n",
              "      <td>2020-04-17</td>\n",
              "      <td>32774.743872</td>\n",
              "      <td>36822.703192</td>\n",
              "      <td>41054.785032</td>\n",
              "    </tr>\n",
              "    <tr>\n",
              "      <th>87</th>\n",
              "      <td>2020-04-18</td>\n",
              "      <td>33522.208913</td>\n",
              "      <td>37753.593902</td>\n",
              "      <td>42030.833346</td>\n",
              "    </tr>\n",
              "    <tr>\n",
              "      <th>88</th>\n",
              "      <td>2020-04-19</td>\n",
              "      <td>34227.416395</td>\n",
              "      <td>38700.908538</td>\n",
              "      <td>43019.750874</td>\n",
              "    </tr>\n",
              "    <tr>\n",
              "      <th>89</th>\n",
              "      <td>2020-04-20</td>\n",
              "      <td>34876.862600</td>\n",
              "      <td>39691.987840</td>\n",
              "      <td>44451.970191</td>\n",
              "    </tr>\n",
              "    <tr>\n",
              "      <th>90</th>\n",
              "      <td>2020-04-21</td>\n",
              "      <td>35758.104744</td>\n",
              "      <td>40724.613394</td>\n",
              "      <td>45762.883668</td>\n",
              "    </tr>\n",
              "    <tr>\n",
              "      <th>91</th>\n",
              "      <td>2020-04-22</td>\n",
              "      <td>36202.543944</td>\n",
              "      <td>41326.856316</td>\n",
              "      <td>46470.940074</td>\n",
              "    </tr>\n",
              "    <tr>\n",
              "      <th>92</th>\n",
              "      <td>2020-04-23</td>\n",
              "      <td>36835.212982</td>\n",
              "      <td>42158.791556</td>\n",
              "      <td>47697.239966</td>\n",
              "    </tr>\n",
              "  </tbody>\n",
              "</table>\n",
              "</div>"
            ],
            "text/plain": [
              "           ds    yhat_lower          yhat    yhat_upper\n",
              "63 2020-03-25  15171.494954  16337.964249  17548.490765\n",
              "64 2020-03-26  15973.972610  17169.899489  18345.575031\n",
              "65 2020-03-27  16846.835302  18081.034142  19260.580036\n",
              "66 2020-03-28  17750.645053  19011.924852  20203.455026\n",
              "67 2020-03-29  18719.432821  19959.239488  21251.074377\n",
              "68 2020-03-30  19667.189542  20950.318790  22211.604820\n",
              "69 2020-03-31  20613.520353  21982.944345  23307.452830\n",
              "70 2020-04-01  21233.933070  22585.187266  23989.874422\n",
              "71 2020-04-02  21809.901420  23417.122506  24870.662846\n",
              "72 2020-04-03  22743.214119  24328.257159  25840.592481\n",
              "73 2020-04-04  23598.834175  25259.147869  27012.197357\n",
              "74 2020-04-05  24472.539860  26206.462505  28110.310664\n",
              "75 2020-04-06  25181.417670  27197.541807  29145.967353\n",
              "76 2020-04-07  26113.325709  28230.167361  30500.659757\n",
              "77 2020-04-08  26589.499839  28832.410283  31073.428770\n",
              "78 2020-04-09  27384.120811  29664.345523  32026.400004\n",
              "79 2020-04-10  27976.613810  30575.480176  33176.968076\n",
              "80 2020-04-11  28652.649957  31506.370885  34481.651518\n",
              "81 2020-04-12  29659.112395  32453.685522  35525.036675\n",
              "82 2020-04-13  30430.899859  33444.764824  36576.396232\n",
              "83 2020-04-14  31172.819820  34477.390378  37764.311211\n",
              "84 2020-04-15  31643.063754  35079.633299  38799.789143\n",
              "85 2020-04-16  32167.156956  35911.568539  39796.797035\n",
              "86 2020-04-17  32774.743872  36822.703192  41054.785032\n",
              "87 2020-04-18  33522.208913  37753.593902  42030.833346\n",
              "88 2020-04-19  34227.416395  38700.908538  43019.750874\n",
              "89 2020-04-20  34876.862600  39691.987840  44451.970191\n",
              "90 2020-04-21  35758.104744  40724.613394  45762.883668\n",
              "91 2020-04-22  36202.543944  41326.856316  46470.940074\n",
              "92 2020-04-23  36835.212982  42158.791556  47697.239966"
            ]
          },
          "metadata": {
            "tags": []
          },
          "execution_count": 118
        }
      ]
    },
    {
      "cell_type": "code",
      "metadata": {
        "id": "iR8IiBMlQfTG",
        "colab_type": "code",
        "colab": {}
      },
      "source": [
        ""
      ],
      "execution_count": null,
      "outputs": []
    },
    {
      "cell_type": "markdown",
      "metadata": {
        "id": "8gDCKIWKQgU7",
        "colab_type": "text"
      },
      "source": [
        "Previsão de **Mortes** em **30 Dias** no mundo."
      ]
    },
    {
      "cell_type": "code",
      "metadata": {
        "id": "PvuzETMXN20s",
        "colab_type": "code",
        "colab": {
          "base_uri": "https://localhost:8080/",
          "height": 441
        },
        "outputId": "23404bdc-fdd6-4e1e-b545-abc2e6d0753d"
      },
      "source": [
        "confirmed_forecast_plot = m.plot(previsao)"
      ],
      "execution_count": null,
      "outputs": [
        {
          "output_type": "display_data",
          "data": {
            "image/png": "[encoded data removed]",
            "text/plain": [
              "<Figure size 720x432 with 1 Axes>"
            ]
          },
          "metadata": {
            "tags": []
          }
        }
      ]
    },
    {
      "cell_type": "code",
      "metadata": {
        "id": "BRjSNPNeOXXu",
        "colab_type": "code",
        "colab": {
          "base_uri": "https://localhost:8080/",
          "height": 336
        },
        "outputId": "47db0b00-77f1-42d7-cada-d283ddd96bce"
      },
      "source": [
        "import numpy as np\n",
        "np.random.randint(1, 61, (10, 1, 6))"
      ],
      "execution_count": null,
      "outputs": [
        {
          "output_type": "execute_result",
          "data": {
            "text/plain": [
              "array([[[31, 18, 22,  1, 24, 38]],\n",
              "\n",
              "       [[42, 24, 44, 15, 16, 12]],\n",
              "\n",
              "       [[29, 46, 32,  4, 42, 58]],\n",
              "\n",
              "       [[32, 13, 48, 13, 50, 44]],\n",
              "\n",
              "       [[21, 11, 13, 30, 11, 50]],\n",
              "\n",
              "       [[18, 59, 22, 47, 53, 14]],\n",
              "\n",
              "       [[32, 17,  6, 49, 55, 20]],\n",
              "\n",
              "       [[43,  8,  7, 47,  4, 39]],\n",
              "\n",
              "       [[29, 58, 12, 35,  5, 29]],\n",
              "\n",
              "       [[60,  4, 56, 60, 11,  5]]])"
            ]
          },
          "metadata": {
            "tags": []
          },
          "execution_count": 1
        }
      ]
    },
    {
      "cell_type": "code",
      "metadata": {
        "id": "lZLkRutwPMqq",
        "colab_type": "code",
        "colab": {
          "base_uri": "https://localhost:8080/",
          "height": 34
        },
        "outputId": "d06b5e8b-a4a0-4c13-baf7-2dc2c427f14d"
      },
      "source": [
        "a1D = np.random.randint(0, 10, 10)\n",
        "a1D"
      ],
      "execution_count": null,
      "outputs": [
        {
          "output_type": "execute_result",
          "data": {
            "text/plain": [
              "array([8, 2, 3, 7, 4, 6, 6, 3, 5, 3])"
            ]
          },
          "metadata": {
            "tags": []
          },
          "execution_count": 13
        }
      ]
    },
    {
      "cell_type": "code",
      "metadata": {
        "id": "a6F1JR9kRGub",
        "colab_type": "code",
        "colab": {
          "base_uri": "https://localhost:8080/",
          "height": 34
        },
        "outputId": "5eadf708-48af-4365-bae4-3628bfadf6a6"
      },
      "source": [
        "#A propriedade shape retorna o formato do array\n",
        "a1D.shape"
      ],
      "execution_count": null,
      "outputs": [
        {
          "output_type": "execute_result",
          "data": {
            "text/plain": [
              "(10,)"
            ]
          },
          "metadata": {
            "tags": []
          },
          "execution_count": 14
        }
      ]
    },
    {
      "cell_type": "code",
      "metadata": {
        "id": "1dSIlm9vRYpE",
        "colab_type": "code",
        "colab": {
          "base_uri": "https://localhost:8080/",
          "height": 34
        },
        "outputId": "acda9e4f-9625-4c0f-933b-0ebd600306e3"
      },
      "source": [
        "#A propriedade ndim retorna o número de dimensões do array\n",
        "a1D.ndim"
      ],
      "execution_count": null,
      "outputs": [
        {
          "output_type": "execute_result",
          "data": {
            "text/plain": [
              "1"
            ]
          },
          "metadata": {
            "tags": []
          },
          "execution_count": 15
        }
      ]
    },
    {
      "cell_type": "code",
      "metadata": {
        "id": "ahJul0yrRskk",
        "colab_type": "code",
        "colab": {
          "base_uri": "https://localhost:8080/",
          "height": 34
        },
        "outputId": "a6b89e92-4db4-4c25-b51a-a63df81dea8d"
      },
      "source": [
        "#Verificando o tamanho das dimensões de um array - len\n",
        "arr1D = np.random.randint(0, 10, 10) # Cria array de 1 dimensão\n",
        "arr2D = np.random.randint(0, 10, (3, 4)) # Cria array de duas dimensões 3 linhas e 4 colunas\n",
        "arr3D = np.random.randint(0, 10, (3, 2, 4)) # Cria array de 3 páginas, 2 linhas e 4 colunas\n",
        "\n",
        "len(arr1D) # Retorna o tamanho da 1ª dimensão (quantidade de colunas)\n",
        "len(arr2D) # Retorna o tomanho da 1º dimensão (quantidade de linhas)\n",
        "len(arr3D) # Retorna o tomanho da 1ª dimensão  (quantidade de páginas)\n",
        "len(arr3D[0]) # Retorna o tomanho da 2º dimensão (quantidade de linhas)\n",
        "len(arr3D[0][0]) # Retorna o tomanho da 2º dimensão (quantidade de colunas)"
      ],
      "execution_count": null,
      "outputs": [
        {
          "output_type": "execute_result",
          "data": {
            "text/plain": [
              "4"
            ]
          },
          "metadata": {
            "tags": []
          },
          "execution_count": 36
        }
      ]
    },
    {
      "cell_type": "code",
      "metadata": {
        "id": "XXzkmTnPUrL_",
        "colab_type": "code",
        "colab": {
          "base_uri": "https://localhost:8080/",
          "height": 34
        },
        "outputId": "bc2fa23b-8a9d-4a68-bede-ca735f879115"
      },
      "source": [
        "#Verificando a quantidade de elementos de um array  - size\n",
        "arr1D = np.random.randint(0, 10, 10) # Cria array de 1 dimensão\n",
        "arr2D = np.random.randint(0, 10, (3, 4)) # Cria array de duas dimensões 3 linhas e 4 colunas\n",
        "arr3D = np.random.randint(0, 10, (3, 2, 4)) # Cria array de 3 páginas, 2 linhas e 4 colunas\n",
        "\n",
        "arr1D.size\n",
        "arr2D.size\n",
        "arr3D.size\n",
        "#Como verificar o tamanho\n",
        "(pages, lines, columns)\n",
        "(3, 2, 4) # pages * (lines * columns) = 3 * (2 * 4) = 24\n"
      ],
      "execution_count": null,
      "outputs": [
        {
          "output_type": "execute_result",
          "data": {
            "text/plain": [
              "24"
            ]
          },
          "metadata": {
            "tags": []
          },
          "execution_count": 39
        }
      ]
    },
    {
      "cell_type": "code",
      "metadata": {
        "id": "plUqi-BDV5Rn",
        "colab_type": "code",
        "colab": {
          "base_uri": "https://localhost:8080/",
          "height": 101
        },
        "outputId": "29d46a14-b833-4cf4-835b-9b0862679ad3"
      },
      "source": [
        "# Verificando o tipo dos elementos de um array - dtype\n",
        "arr1D = np.random.randint(0, 10, 10) # Cria array de 1 dimensão\n",
        "arr2D = np.random.randint(0, 10, (3, 4)) # Cria array de duas dimensões 3 linhas e 4 colunas\n",
        "arr3D = np.random.random(20) # Cria array de 3 páginas, 2 linhas e 4 colunas\n",
        "arr3D"
      ],
      "execution_count": null,
      "outputs": [
        {
          "output_type": "execute_result",
          "data": {
            "text/plain": [
              "array([8.11710852e-01, 7.96392768e-01, 8.95552513e-01, 4.00996966e-01,\n",
              "       1.81377120e-01, 9.84200297e-01, 2.64482480e-01, 6.95873094e-01,\n",
              "       5.27387647e-02, 9.63112281e-01, 4.74632519e-01, 8.60124768e-01,\n",
              "       6.21459120e-05, 1.47498993e-02, 1.37022304e-01, 2.97761781e-01,\n",
              "       8.52901970e-01, 1.50891184e-01, 9.83488491e-01, 8.29501581e-01])"
            ]
          },
          "metadata": {
            "tags": []
          },
          "execution_count": 56
        }
      ]
    },
    {
      "cell_type": "code",
      "metadata": {
        "id": "ghfogx0OWF6U",
        "colab_type": "code",
        "colab": {
          "base_uri": "https://localhost:8080/",
          "height": 34
        },
        "outputId": "74f94a2a-e378-496e-fbf0-a15422473db7"
      },
      "source": [
        "arr1D.dtype # 10"
      ],
      "execution_count": null,
      "outputs": [
        {
          "output_type": "execute_result",
          "data": {
            "text/plain": [
              "dtype('int64')"
            ]
          },
          "metadata": {
            "tags": []
          },
          "execution_count": 42
        }
      ]
    },
    {
      "cell_type": "code",
      "metadata": {
        "id": "Ap95ylLlWHBr",
        "colab_type": "code",
        "colab": {
          "base_uri": "https://localhost:8080/",
          "height": 35
        },
        "outputId": "2a32e24f-0989-493d-ffb5-517fdfd7deee"
      },
      "source": [
        "arr1D.dtype.name"
      ],
      "execution_count": null,
      "outputs": [
        {
          "output_type": "execute_result",
          "data": {
            "application/vnd.google.colaboratory.intrinsic+json": {
              "type": "string"
            },
            "text/plain": [
              "'int64'"
            ]
          },
          "metadata": {
            "tags": []
          },
          "execution_count": 45
        }
      ]
    },
    {
      "cell_type": "code",
      "metadata": {
        "id": "SA3-dQRAWSG8",
        "colab_type": "code",
        "colab": {
          "base_uri": "https://localhost:8080/",
          "height": 34
        },
        "outputId": "c49ad55d-cadb-4748-eab3-15d60a18ce1b"
      },
      "source": [
        "arr2D.dtype"
      ],
      "execution_count": null,
      "outputs": [
        {
          "output_type": "execute_result",
          "data": {
            "text/plain": [
              "dtype('int64')"
            ]
          },
          "metadata": {
            "tags": []
          },
          "execution_count": 46
        }
      ]
    },
    {
      "cell_type": "code",
      "metadata": {
        "id": "S9-wPkAQWVlz",
        "colab_type": "code",
        "colab": {
          "base_uri": "https://localhost:8080/",
          "height": 35
        },
        "outputId": "99e8cfbc-6fcc-4bd3-9f51-b56ee32d77fc"
      },
      "source": [
        "arr2D.dtype.name"
      ],
      "execution_count": null,
      "outputs": [
        {
          "output_type": "execute_result",
          "data": {
            "application/vnd.google.colaboratory.intrinsic+json": {
              "type": "string"
            },
            "text/plain": [
              "'int64'"
            ]
          },
          "metadata": {
            "tags": []
          },
          "execution_count": 47
        }
      ]
    },
    {
      "cell_type": "code",
      "metadata": {
        "id": "91Fqndr5V64R",
        "colab_type": "code",
        "colab": {
          "base_uri": "https://localhost:8080/",
          "height": 34
        },
        "outputId": "bbb4c713-acf5-4f41-ed5b-ddb62406b984"
      },
      "source": [
        "arr3D.dtype"
      ],
      "execution_count": null,
      "outputs": [
        {
          "output_type": "execute_result",
          "data": {
            "text/plain": [
              "dtype('int64')"
            ]
          },
          "metadata": {
            "tags": []
          },
          "execution_count": 49
        }
      ]
    },
    {
      "cell_type": "code",
      "metadata": {
        "id": "IYQ_jD5ZWezW",
        "colab_type": "code",
        "colab": {
          "base_uri": "https://localhost:8080/",
          "height": 35
        },
        "outputId": "90e86638-a6a4-4baf-bb7a-85d14ff70f12"
      },
      "source": [
        "arr3D.dtype.name"
      ],
      "execution_count": null,
      "outputs": [
        {
          "output_type": "execute_result",
          "data": {
            "application/vnd.google.colaboratory.intrinsic+json": {
              "type": "string"
            },
            "text/plain": [
              "'int64'"
            ]
          },
          "metadata": {
            "tags": []
          },
          "execution_count": 50
        }
      ]
    },
    {
      "cell_type": "code",
      "metadata": {
        "id": "rVZYb8FPd3OS",
        "colab_type": "code",
        "colab": {
          "base_uri": "https://localhost:8080/",
          "height": 34
        },
        "outputId": "d504df53-78a9-482e-fcbd-f00e12c731c4"
      },
      "source": [
        "arr1D = np.random.randint(0, 10, 10) # Cria array de 1 dimensão\n",
        "arr1D"
      ],
      "execution_count": null,
      "outputs": [
        {
          "output_type": "execute_result",
          "data": {
            "text/plain": [
              "array([7, 7, 1, 0, 3, 6, 0, 3, 9, 8])"
            ]
          },
          "metadata": {
            "tags": []
          },
          "execution_count": 58
        }
      ]
    },
    {
      "cell_type": "code",
      "metadata": {
        "id": "GT88y2MseWKp",
        "colab_type": "code",
        "colab": {
          "base_uri": "https://localhost:8080/",
          "height": 84
        },
        "outputId": "c4adea13-6eb5-46a4-90ac-74c7ba71acc2"
      },
      "source": [
        "arr2D = np.random.randint(0, 101, (4, 5)) # Cria array de duas dimensões 3 linhas e 4 colunas\n",
        "arr2D"
      ],
      "execution_count": null,
      "outputs": [
        {
          "output_type": "execute_result",
          "data": {
            "text/plain": [
              "array([[17, 10, 21, 45, 33],\n",
              "       [75, 60, 46, 19, 94],\n",
              "       [ 4, 92, 47, 65, 37],\n",
              "       [22, 73, 85, 80,  1]])"
            ]
          },
          "metadata": {
            "tags": []
          },
          "execution_count": 59
        }
      ]
    },
    {
      "cell_type": "code",
      "metadata": {
        "id": "5sHaCe9seZ5Y",
        "colab_type": "code",
        "colab": {
          "base_uri": "https://localhost:8080/",
          "height": 252
        },
        "outputId": "04f433be-d28a-4038-bbc7-871d90783753"
      },
      "source": [
        "arr3D = np.random.random((3, 4, 5)) # Cria array de 3 páginas, 2 linhas e 4 coluna\n",
        "arr3D"
      ],
      "execution_count": null,
      "outputs": [
        {
          "output_type": "execute_result",
          "data": {
            "text/plain": [
              "array([[[0.71271269, 0.87013654, 0.02957158, 0.9059113 , 0.17075139],\n",
              "        [0.99364736, 0.2752955 , 0.22855317, 0.89757172, 0.38045871],\n",
              "        [0.43530588, 0.43844804, 0.62591172, 0.62941398, 0.20254397],\n",
              "        [0.44620397, 0.89282112, 0.49988347, 0.81901135, 0.19628105]],\n",
              "\n",
              "       [[0.79269876, 0.51886651, 0.49748297, 0.86593245, 0.9132884 ],\n",
              "        [0.86226052, 0.15236774, 0.84634765, 0.01689208, 0.86458166],\n",
              "        [0.11224612, 0.60543798, 0.72651086, 0.0643186 , 0.14688707],\n",
              "        [0.95941767, 0.58830666, 0.17372397, 0.83587319, 0.41333809]],\n",
              "\n",
              "       [[0.72029796, 0.6064659 , 0.71534055, 0.41286509, 0.36947996],\n",
              "        [0.02845134, 0.44674033, 0.35239374, 0.67781687, 0.88816395],\n",
              "        [0.34842762, 0.97677892, 0.64258411, 0.88815591, 0.91872395],\n",
              "        [0.49260422, 0.55125263, 0.5550808 , 0.92051172, 0.58702118]]])"
            ]
          },
          "metadata": {
            "tags": []
          },
          "execution_count": 60
        }
      ]
    },
    {
      "cell_type": "markdown",
      "metadata": {
        "id": "VhuCpEoCedve",
        "colab_type": "text"
      },
      "source": [
        "**Acessando elementos específicos**"
      ]
    },
    {
      "cell_type": "code",
      "metadata": {
        "id": "htF-FV0AecD0",
        "colab_type": "code",
        "colab": {
          "base_uri": "https://localhost:8080/",
          "height": 34
        },
        "outputId": "51ec1947-bae5-4a88-d638-3a457dabc01e"
      },
      "source": [
        "#Acessando elementos de um ndarray de 1 dimensão\n",
        "arr1D"
      ],
      "execution_count": null,
      "outputs": [
        {
          "output_type": "execute_result",
          "data": {
            "text/plain": [
              "array([7, 7, 1, 0, 3, 6, 0, 3, 9, 8])"
            ]
          },
          "metadata": {
            "tags": []
          },
          "execution_count": 62
        }
      ]
    },
    {
      "cell_type": "code",
      "metadata": {
        "id": "ZUE5OYY7evHD",
        "colab_type": "code",
        "colab": {
          "base_uri": "https://localhost:8080/",
          "height": 34
        },
        "outputId": "65fc912e-f425-4b9e-da61-dbd6bfca3405"
      },
      "source": [
        "# Nome_do_array[índice]\n",
        "arr1D[0]"
      ],
      "execution_count": null,
      "outputs": [
        {
          "output_type": "execute_result",
          "data": {
            "text/plain": [
              "7"
            ]
          },
          "metadata": {
            "tags": []
          },
          "execution_count": 63
        }
      ]
    },
    {
      "cell_type": "code",
      "metadata": {
        "id": "usmufdaje9-J",
        "colab_type": "code",
        "colab": {
          "base_uri": "https://localhost:8080/",
          "height": 34
        },
        "outputId": "45a89c19-2e01-4c6d-b6cf-4f79d91a0a4c"
      },
      "source": [
        "arr1D[2]"
      ],
      "execution_count": null,
      "outputs": [
        {
          "output_type": "execute_result",
          "data": {
            "text/plain": [
              "1"
            ]
          },
          "metadata": {
            "tags": []
          },
          "execution_count": 64
        }
      ]
    },
    {
      "cell_type": "code",
      "metadata": {
        "id": "BGnDf9VufMIj",
        "colab_type": "code",
        "colab": {
          "base_uri": "https://localhost:8080/",
          "height": 34
        },
        "outputId": "f173887f-a087-4f7d-ba36-2a2d9e232ddc"
      },
      "source": [
        "# pega o ultimo elemento do array n-1 para pegar o primeiro pega-se n * -1\n",
        "arr1D[len(arr1D) * -1 ]\n",
        "print(len(arr1D) * -1)"
      ],
      "execution_count": null,
      "outputs": [
        {
          "output_type": "stream",
          "text": [
            "-10\n"
          ],
          "name": "stdout"
        }
      ]
    },
    {
      "cell_type": "code",
      "metadata": {
        "id": "abbjlJMFhG1B",
        "colab_type": "code",
        "colab": {
          "base_uri": "https://localhost:8080/",
          "height": 84
        },
        "outputId": "a39e8669-b18b-45e4-b632-5c762d07ac32"
      },
      "source": [
        "arr2D"
      ],
      "execution_count": null,
      "outputs": [
        {
          "output_type": "execute_result",
          "data": {
            "text/plain": [
              "array([[17, 10, 21, 45, 33],\n",
              "       [75, 60, 46, 19, 94],\n",
              "       [ 4, 92, 47, 65, 37],\n",
              "       [22, 73, 85, 80,  1]])"
            ]
          },
          "metadata": {
            "tags": []
          },
          "execution_count": 69
        }
      ]
    },
    {
      "cell_type": "code",
      "metadata": {
        "id": "-eDQ2dwXgw0h",
        "colab_type": "code",
        "colab": {
          "base_uri": "https://localhost:8080/",
          "height": 34
        },
        "outputId": "ac160e6a-65e6-4966-985b-94846add2e52"
      },
      "source": [
        "#Acessando elementos linhas e colunas\n",
        "indice_lin = [0, 1, 2, 3]\n",
        "indice_col = [0, 1, 2, 3]\n",
        "arr2D[indice_lin, indice_col]"
      ],
      "execution_count": null,
      "outputs": [
        {
          "output_type": "execute_result",
          "data": {
            "text/plain": [
              "array([17, 60, 47, 80])"
            ]
          },
          "metadata": {
            "tags": []
          },
          "execution_count": 68
        }
      ]
    },
    {
      "cell_type": "code",
      "metadata": {
        "id": "-llMx91_iKzQ",
        "colab_type": "code",
        "colab": {
          "base_uri": "https://localhost:8080/",
          "height": 84
        },
        "outputId": "caea1e85-1c68-4a11-e207-1e5e9592343d"
      },
      "source": [
        "arr2D"
      ],
      "execution_count": null,
      "outputs": [
        {
          "output_type": "execute_result",
          "data": {
            "text/plain": [
              "array([[17, 10, 21, 45, 33],\n",
              "       [75, 60, 46, 19, 94],\n",
              "       [ 4, 92, 47, 65, 37],\n",
              "       [22, 73, 85, 80,  1]])"
            ]
          },
          "metadata": {
            "tags": []
          },
          "execution_count": 71
        }
      ]
    },
    {
      "cell_type": "code",
      "metadata": {
        "id": "2YZWyHJziEjr",
        "colab_type": "code",
        "colab": {
          "base_uri": "https://localhost:8080/",
          "height": 84
        },
        "outputId": "61c9f7b7-cf9a-4e57-dac5-992486415b32"
      },
      "source": [
        "# Para todo o array especifico quais colunas desejo trazer, no caso repeti a ultima coluna zero\n",
        "arr2D[:,[0, 1, 2, 0]]"
      ],
      "execution_count": null,
      "outputs": [
        {
          "output_type": "execute_result",
          "data": {
            "text/plain": [
              "array([[17, 10, 21, 17],\n",
              "       [75, 60, 46, 75],\n",
              "       [ 4, 92, 47,  4],\n",
              "       [22, 73, 85, 22]])"
            ]
          },
          "metadata": {
            "tags": []
          },
          "execution_count": 70
        }
      ]
    }
  ]
}