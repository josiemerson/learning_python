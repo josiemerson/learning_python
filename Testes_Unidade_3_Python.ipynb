{
  "nbformat": 4,
  "nbformat_minor": 0,
  "metadata": {
    "colab": {
      "name": "Testes_Unidade_3_Python.ipynb",
      "provenance": [],
      "authorship_tag": "ABX9TyPTifggcWVKdJ5Y69eLhagS",
      "include_colab_link": true
    },
    "kernelspec": {
      "name": "python3",
      "display_name": "Python 3"
    }
  },
  "cells": [
    {
      "cell_type": "markdown",
      "metadata": {
        "id": "view-in-github",
        "colab_type": "text"
      },
      "source": [
        "<a href=\"https://colab.research.google.com/github/josiemerson/learning_python/blob/master/Testes_Unidade_3_Python.ipynb\" target=\"_parent\"><img src=\"https://colab.research.google.com/assets/colab-badge.svg\" alt=\"Open In Colab\"/></a>"
      ]
    },
    {
      "cell_type": "markdown",
      "metadata": {
        "id": "9Pkt9KsH_VHS",
        "colab_type": "text"
      },
      "source": [
        "**Pergunta 1** Qual a saída correta para o código a seguir?\n"
      ]
    },
    {
      "cell_type": "code",
      "metadata": {
        "id": "E9AOwIUw9blG",
        "colab_type": "code",
        "colab": {
          "base_uri": "https://localhost:8080/",
          "height": 50
        },
        "outputId": "0ab167ef-507a-47b0-a9b9-ba9d7086609f"
      },
      "source": [
        "import numpy as np\n",
        "series = [[23, 45, 12, 679], [14, 48, 69, 38]]\n",
        "new_series = np.array(series)\n",
        "print(new_series.ndim)\n",
        "print(new_series.shape)"
      ],
      "execution_count": 2,
      "outputs": [
        {
          "output_type": "stream",
          "text": [
            "2\n",
            "(2, 4)\n"
          ],
          "name": "stdout"
        }
      ]
    },
    {
      "cell_type": "markdown",
      "metadata": {
        "id": "owx4kVqH90hP",
        "colab_type": "text"
      },
      "source": [
        "**Pergunta 2:** Vamos supor que eu queira criar um ndarray de uma dimensão, com 10 posições armazenando o valor 4. Quais das seguintes formas são corretas?"
      ]
    },
    {
      "cell_type": "code",
      "metadata": {
        "id": "SLiwndbt9wgK",
        "colab_type": "code",
        "colab": {
          "base_uri": "https://localhost:8080/",
          "height": 101
        },
        "outputId": "840370cb-4c48-4421-90fb-d4c105503bd3"
      },
      "source": [
        "import numpy as np\n",
        "a = np.zeros(10) + 4\n",
        "print(a)\n",
        "\n",
        "a = np.zeros(10) * 4\n",
        "print(a)\n",
        "\n",
        "a = np.ones(10) * 4\n",
        "print(a)\n",
        "\n",
        "a = np.ones(10) + 4\n",
        "print(a)\n",
        "\n",
        "a = np.full(10, 4)\n",
        "print(a)"
      ],
      "execution_count": 3,
      "outputs": [
        {
          "output_type": "stream",
          "text": [
            "[4. 4. 4. 4. 4. 4. 4. 4. 4. 4.]\n",
            "[0. 0. 0. 0. 0. 0. 0. 0. 0. 0.]\n",
            "[4. 4. 4. 4. 4. 4. 4. 4. 4. 4.]\n",
            "[5. 5. 5. 5. 5. 5. 5. 5. 5. 5.]\n",
            "[4 4 4 4 4 4 4 4 4 4]\n"
          ],
          "name": "stdout"
        }
      ]
    },
    {
      "cell_type": "markdown",
      "metadata": {
        "id": "SNZD4o1g-lB6",
        "colab_type": "text"
      },
      "source": [
        "**Pergunta 3** Qual é a saída correta para o código Python a seguir?"
      ]
    },
    {
      "cell_type": "code",
      "metadata": {
        "id": "_tMFDIhc-vIp",
        "colab_type": "code",
        "colab": {
          "base_uri": "https://localhost:8080/",
          "height": 34
        },
        "outputId": "8035a664-c8e7-4ca4-be3a-06cd6ba4e854"
      },
      "source": [
        "import numpy as np\n",
        "dataset = np.array(['paul', 'jacob', 'vince', 'paul', 'miky',  'larence', 'warren'])\n",
        "print(dataset == 'paul')"
      ],
      "execution_count": 4,
      "outputs": [
        {
          "output_type": "stream",
          "text": [
            "[ True False False  True False False False]\n"
          ],
          "name": "stdout"
        }
      ]
    },
    {
      "cell_type": "markdown",
      "metadata": {
        "id": "ter-yivE_EET",
        "colab_type": "text"
      },
      "source": [
        "**Pergunta 4** Qual é a saída para o código a seguir?"
      ]
    },
    {
      "cell_type": "code",
      "metadata": {
        "id": "5heQKlFH_Ilg",
        "colab_type": "code",
        "colab": {
          "base_uri": "https://localhost:8080/",
          "height": 34
        },
        "outputId": "56636202-e8ee-4f26-b93a-446f885c1ea0"
      },
      "source": [
        "import numpy as np\n",
        "percentiles = [98, 76.37, 55.55, 69, 88]\n",
        "first_subject = np.array(percentiles)\n",
        "print(first_subject.dtype.name)\n",
        "#print(first_subject.dtype)"
      ],
      "execution_count": 31,
      "outputs": [
        {
          "output_type": "stream",
          "text": [
            "float64\n"
          ],
          "name": "stdout"
        }
      ]
    },
    {
      "cell_type": "markdown",
      "metadata": {
        "id": "0XS0qIPCACoe",
        "colab_type": "text"
      },
      "source": [
        "**Pergunta 5** Quais das opções substituem todos os números pares do array abaixo por -1?"
      ]
    },
    {
      "cell_type": "code",
      "metadata": {
        "id": "ZPEtQ-xTAN3g",
        "colab_type": "code",
        "colab": {
          "base_uri": "https://localhost:8080/",
          "height": 34
        },
        "outputId": "c309380c-e28d-4ccf-f812-9bb594482ab3"
      },
      "source": [
        "import numpy as np\n",
        "arr = np.array([0, 1, 2, 3, 4, 5, 6, 7, 8, 9])\n",
        "arr[::2] = -1\n",
        "#arr[1::2] = -1\n",
        "#arr[arr % 2 == 0] = -1\n",
        "#d = arr[-2::-2] = -1\n",
        "arr"
      ],
      "execution_count": 28,
      "outputs": [
        {
          "output_type": "execute_result",
          "data": {
            "text/plain": [
              "array([-1,  1, -1,  3, -1,  5, -1,  7, -1,  9])"
            ]
          },
          "metadata": {
            "tags": []
          },
          "execution_count": 28
        }
      ]
    },
    {
      "cell_type": "markdown",
      "metadata": {
        "id": "jL5-co77C6ha",
        "colab_type": "text"
      },
      "source": [
        "**Pergunta 6** Após criar uma matriz identidade de 5 x 5, um programador deseja preencher os elementos acima e abaixo da diagonal principal como o número -1. Como ele pode fazer isso?"
      ]
    },
    {
      "cell_type": "code",
      "metadata": {
        "id": "fAILtN4vDKe-",
        "colab_type": "code",
        "colab": {
          "base_uri": "https://localhost:8080/",
          "height": 101
        },
        "outputId": "ca4dbcdc-a080-47ed-935b-849b7dda43d8"
      },
      "source": [
        "arr = np.eye(5)\n",
        "#arr[arr == 0] = -1\n",
        "#arr[arr != 1] = -1\n",
        "#arr = np.full((5x5),-1)\n",
        "#arr = arr - (np.eye(5) + 1)\n",
        "arr"
      ],
      "execution_count": 38,
      "outputs": [
        {
          "output_type": "execute_result",
          "data": {
            "text/plain": [
              "array([[-1., -1., -1., -1., -1.],\n",
              "       [-1., -1., -1., -1., -1.],\n",
              "       [-1., -1., -1., -1., -1.],\n",
              "       [-1., -1., -1., -1., -1.],\n",
              "       [-1., -1., -1., -1., -1.]])"
            ]
          },
          "metadata": {
            "tags": []
          },
          "execution_count": 38
        }
      ]
    },
    {
      "cell_type": "markdown",
      "metadata": {
        "id": "IseqNBi6GuGl",
        "colab_type": "text"
      },
      "source": [
        "**Atividades Objetiva 04**\n",
        "\n",
        "**Pergunta 1** Assim como o ndarray do NumPy, os objetos DataFrame e Series do Pandas possuem o atributo shape que é utilizado para verificar e manipular as dimensões dessas estruturas de dados."
      ]
    },
    {
      "cell_type": "code",
      "metadata": {
        "id": "SsELhUSGG49g",
        "colab_type": "code",
        "colab": {}
      },
      "source": [
        "true"
      ],
      "execution_count": null,
      "outputs": []
    },
    {
      "cell_type": "markdown",
      "metadata": {
        "id": "w3kJ4RKBHwwX",
        "colab_type": "text"
      },
      "source": [
        "**Pergunta 2** Podemos afirmar que o DataFrame é um grupo de Series que compartilham um mesmo índice, ou seja, cada coluna de um DataFrame nada mais é do que uma Series."
      ]
    },
    {
      "cell_type": "code",
      "metadata": {
        "id": "MEv0dY65H1S-",
        "colab_type": "code",
        "colab": {}
      },
      "source": [
        "false"
      ],
      "execution_count": null,
      "outputs": []
    },
    {
      "cell_type": "markdown",
      "metadata": {
        "id": "0SJs__eFH2o3",
        "colab_type": "text"
      },
      "source": [
        "**Pergunta 3** Considere o trecho a seguir:"
      ]
    },
    {
      "cell_type": "code",
      "metadata": {
        "id": "p53WqKLBH6Ma",
        "colab_type": "code",
        "colab": {
          "base_uri": "https://localhost:8080/",
          "height": 50
        },
        "outputId": "c1f603a2-bfad-475d-a5f2-f4bc36b0162a"
      },
      "source": [
        "import pandas as pd\n",
        "nomes = (\"Minas Gerais\", \"Amazonas\", \"Maranhão\", \"Goiás\", \"Santa Catarina\")\n",
        "siglas = (\"MG\", \"AM\", \"MA\", \"GO\", \"SC\")\n",
        "estados = pd.Series(siglas, nomes)\n",
        "print(estados.get('Minas Gerais'))\n",
        "print(estados['Minas Gerais'])"
      ],
      "execution_count": 51,
      "outputs": [
        {
          "output_type": "stream",
          "text": [
            "MG\n",
            "MG\n"
          ],
          "name": "stdout"
        }
      ]
    },
    {
      "cell_type": "markdown",
      "metadata": {
        "id": "tosN_YqwJIEA",
        "colab_type": "text"
      },
      "source": [
        "**Pergunta 4** Por Padrão, os métodos do Pandas pr.read_csv e pd.read_excel retornam um objeto DataFrame mesmo que os dados estejam em apenas 1 dimensão. Para alterar esse comportamento, deve-se passar os parâmetro squeeze = True."
      ]
    },
    {
      "cell_type": "code",
      "metadata": {
        "id": "D6m6uQXDJarW",
        "colab_type": "code",
        "colab": {
          "base_uri": "https://localhost:8080/",
          "height": 320
        },
        "outputId": "3c629aa4-db09-4272-8e3b-a19a617cd667"
      },
      "source": [
        "import pandas as pd\n",
        "pd.read_csv([1,2], squeeze=True)"
      ],
      "execution_count": 52,
      "outputs": [
        {
          "output_type": "error",
          "ename": "ValueError",
          "evalue": "ignored",
          "traceback": [
            "\u001b[0;31m---------------------------------------------------------------------------\u001b[0m",
            "\u001b[0;31mValueError\u001b[0m                                Traceback (most recent call last)",
            "\u001b[0;32m<ipython-input-52-7b1fd2b38fc4>\u001b[0m in \u001b[0;36m<module>\u001b[0;34m()\u001b[0m\n\u001b[1;32m      1\u001b[0m \u001b[0;32mimport\u001b[0m \u001b[0mpandas\u001b[0m \u001b[0;32mas\u001b[0m \u001b[0mpd\u001b[0m\u001b[0;34m\u001b[0m\u001b[0;34m\u001b[0m\u001b[0m\n\u001b[0;32m----> 2\u001b[0;31m \u001b[0mpd\u001b[0m\u001b[0;34m.\u001b[0m\u001b[0mread_csv\u001b[0m\u001b[0;34m(\u001b[0m\u001b[0;34m[\u001b[0m\u001b[0;36m1\u001b[0m\u001b[0;34m,\u001b[0m\u001b[0;36m2\u001b[0m\u001b[0;34m]\u001b[0m\u001b[0;34m,\u001b[0m \u001b[0msqueeze\u001b[0m\u001b[0;34m=\u001b[0m\u001b[0;32mTrue\u001b[0m\u001b[0;34m)\u001b[0m\u001b[0;34m\u001b[0m\u001b[0;34m\u001b[0m\u001b[0m\n\u001b[0m",
            "\u001b[0;32m/usr/local/lib/python3.6/dist-packages/pandas/io/parsers.py\u001b[0m in \u001b[0;36mparser_f\u001b[0;34m(filepath_or_buffer, sep, delimiter, header, names, index_col, usecols, squeeze, prefix, mangle_dupe_cols, dtype, engine, converters, true_values, false_values, skipinitialspace, skiprows, skipfooter, nrows, na_values, keep_default_na, na_filter, verbose, skip_blank_lines, parse_dates, infer_datetime_format, keep_date_col, date_parser, dayfirst, cache_dates, iterator, chunksize, compression, thousands, decimal, lineterminator, quotechar, quoting, doublequote, escapechar, comment, encoding, dialect, error_bad_lines, warn_bad_lines, delim_whitespace, low_memory, memory_map, float_precision)\u001b[0m\n\u001b[1;32m    674\u001b[0m         )\n\u001b[1;32m    675\u001b[0m \u001b[0;34m\u001b[0m\u001b[0m\n\u001b[0;32m--> 676\u001b[0;31m         \u001b[0;32mreturn\u001b[0m \u001b[0m_read\u001b[0m\u001b[0;34m(\u001b[0m\u001b[0mfilepath_or_buffer\u001b[0m\u001b[0;34m,\u001b[0m \u001b[0mkwds\u001b[0m\u001b[0;34m)\u001b[0m\u001b[0;34m\u001b[0m\u001b[0;34m\u001b[0m\u001b[0m\n\u001b[0m\u001b[1;32m    677\u001b[0m \u001b[0;34m\u001b[0m\u001b[0m\n\u001b[1;32m    678\u001b[0m     \u001b[0mparser_f\u001b[0m\u001b[0;34m.\u001b[0m\u001b[0m__name__\u001b[0m \u001b[0;34m=\u001b[0m \u001b[0mname\u001b[0m\u001b[0;34m\u001b[0m\u001b[0;34m\u001b[0m\u001b[0m\n",
            "\u001b[0;32m/usr/local/lib/python3.6/dist-packages/pandas/io/parsers.py\u001b[0m in \u001b[0;36m_read\u001b[0;34m(filepath_or_buffer, kwds)\u001b[0m\n\u001b[1;32m    429\u001b[0m     \u001b[0;31m# See https://github.com/python/mypy/issues/1297\u001b[0m\u001b[0;34m\u001b[0m\u001b[0;34m\u001b[0m\u001b[0;34m\u001b[0m\u001b[0m\n\u001b[1;32m    430\u001b[0m     fp_or_buf, _, compression, should_close = get_filepath_or_buffer(\n\u001b[0;32m--> 431\u001b[0;31m         \u001b[0mfilepath_or_buffer\u001b[0m\u001b[0;34m,\u001b[0m \u001b[0mencoding\u001b[0m\u001b[0;34m,\u001b[0m \u001b[0mcompression\u001b[0m\u001b[0;34m\u001b[0m\u001b[0;34m\u001b[0m\u001b[0m\n\u001b[0m\u001b[1;32m    432\u001b[0m     )\n\u001b[1;32m    433\u001b[0m     \u001b[0mkwds\u001b[0m\u001b[0;34m[\u001b[0m\u001b[0;34m\"compression\"\u001b[0m\u001b[0;34m]\u001b[0m \u001b[0;34m=\u001b[0m \u001b[0mcompression\u001b[0m\u001b[0;34m\u001b[0m\u001b[0;34m\u001b[0m\u001b[0m\n",
            "\u001b[0;32m/usr/local/lib/python3.6/dist-packages/pandas/io/common.py\u001b[0m in \u001b[0;36mget_filepath_or_buffer\u001b[0;34m(filepath_or_buffer, encoding, compression, mode)\u001b[0m\n\u001b[1;32m    198\u001b[0m     \u001b[0;32mif\u001b[0m \u001b[0;32mnot\u001b[0m \u001b[0mis_file_like\u001b[0m\u001b[0;34m(\u001b[0m\u001b[0mfilepath_or_buffer\u001b[0m\u001b[0;34m)\u001b[0m\u001b[0;34m:\u001b[0m\u001b[0;34m\u001b[0m\u001b[0;34m\u001b[0m\u001b[0m\n\u001b[1;32m    199\u001b[0m         \u001b[0mmsg\u001b[0m \u001b[0;34m=\u001b[0m \u001b[0;34mf\"Invalid file path or buffer object type: {type(filepath_or_buffer)}\"\u001b[0m\u001b[0;34m\u001b[0m\u001b[0;34m\u001b[0m\u001b[0m\n\u001b[0;32m--> 200\u001b[0;31m         \u001b[0;32mraise\u001b[0m \u001b[0mValueError\u001b[0m\u001b[0;34m(\u001b[0m\u001b[0mmsg\u001b[0m\u001b[0;34m)\u001b[0m\u001b[0;34m\u001b[0m\u001b[0;34m\u001b[0m\u001b[0m\n\u001b[0m\u001b[1;32m    201\u001b[0m \u001b[0;34m\u001b[0m\u001b[0m\n\u001b[1;32m    202\u001b[0m     \u001b[0;32mreturn\u001b[0m \u001b[0mfilepath_or_buffer\u001b[0m\u001b[0;34m,\u001b[0m \u001b[0;32mNone\u001b[0m\u001b[0;34m,\u001b[0m \u001b[0mcompression\u001b[0m\u001b[0;34m,\u001b[0m \u001b[0;32mFalse\u001b[0m\u001b[0;34m\u001b[0m\u001b[0;34m\u001b[0m\u001b[0m\n",
            "\u001b[0;31mValueError\u001b[0m: Invalid file path or buffer object type: <class 'list'>"
          ]
        }
      ]
    }
  ]
}